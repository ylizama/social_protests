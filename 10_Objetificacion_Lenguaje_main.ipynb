{
 "cells": [
  {
   "cell_type": "code",
   "execution_count": 3,
   "metadata": {},
   "outputs": [],
   "source": [
    "import pandas as pd"
   ]
  },
  {
   "cell_type": "markdown",
   "metadata": {},
   "source": [
    "## Threads - Conversaciones"
   ]
  },
  {
   "cell_type": "code",
   "execution_count": 4,
   "metadata": {},
   "outputs": [],
   "source": [
    "#empezar en 13001"
   ]
  },
  {
   "cell_type": "code",
   "execution_count": 5,
   "metadata": {},
   "outputs": [
    {
     "data": {
      "text/html": [
       "<div>\n",
       "<style scoped>\n",
       "    .dataframe tbody tr th:only-of-type {\n",
       "        vertical-align: middle;\n",
       "    }\n",
       "\n",
       "    .dataframe tbody tr th {\n",
       "        vertical-align: top;\n",
       "    }\n",
       "\n",
       "    .dataframe thead th {\n",
       "        text-align: right;\n",
       "    }\n",
       "</style>\n",
       "<table border=\"1\" class=\"dataframe\">\n",
       "  <thead>\n",
       "    <tr style=\"text-align: right;\">\n",
       "      <th></th>\n",
       "      <th>Twitter ID</th>\n",
       "      <th>Path</th>\n",
       "      <th>Path_lenght</th>\n",
       "      <th>Relationships</th>\n",
       "      <th>Date Start</th>\n",
       "      <th>Date End</th>\n",
       "      <th>Nodes IDs</th>\n",
       "    </tr>\n",
       "  </thead>\n",
       "  <tbody>\n",
       "    <tr>\n",
       "      <th>0</th>\n",
       "      <td>1001826179899449344</td>\n",
       "      <td>[{'created_at': 'Wed May 30 14:02:28 +0000 201...</td>\n",
       "      <td>1</td>\n",
       "      <td>['RETWEETS']</td>\n",
       "      <td>NaN</td>\n",
       "      <td>NaN</td>\n",
       "      <td>['1001826179899449344', '1001679970761166848']</td>\n",
       "    </tr>\n",
       "    <tr>\n",
       "      <th>1</th>\n",
       "      <td>1000073610290180096</td>\n",
       "      <td>[{'created_at': 'Fri May 25 17:58:23 +0000 201...</td>\n",
       "      <td>1</td>\n",
       "      <td>['QUOTED_TO']</td>\n",
       "      <td>NaN</td>\n",
       "      <td>NaN</td>\n",
       "      <td>['1000073610290180096', '989475441059794944']</td>\n",
       "    </tr>\n",
       "    <tr>\n",
       "      <th>2</th>\n",
       "      <td>996431829845626881</td>\n",
       "      <td>[{'created_at': 'Tue May 15 16:47:15 +0000 201...</td>\n",
       "      <td>2</td>\n",
       "      <td>['RETWEETS', 'QUOTED_TO']</td>\n",
       "      <td>NaN</td>\n",
       "      <td>NaN</td>\n",
       "      <td>['996431829845626881', '996425299976949763', '...</td>\n",
       "    </tr>\n",
       "    <tr>\n",
       "      <th>3</th>\n",
       "      <td>1001725199073587200</td>\n",
       "      <td>[{'created_at': 'Wed May 30 07:21:13 +0000 201...</td>\n",
       "      <td>1</td>\n",
       "      <td>['RETWEETS']</td>\n",
       "      <td>NaN</td>\n",
       "      <td>NaN</td>\n",
       "      <td>['1001725199073587200', '1001690597843984384']</td>\n",
       "    </tr>\n",
       "    <tr>\n",
       "      <th>4</th>\n",
       "      <td>999937420513632256</td>\n",
       "      <td>[{'created_at': 'Fri May 25 08:57:13 +0000 201...</td>\n",
       "      <td>1</td>\n",
       "      <td>['RETWEETS']</td>\n",
       "      <td>NaN</td>\n",
       "      <td>NaN</td>\n",
       "      <td>['999937420513632256', '999203269086871552']</td>\n",
       "    </tr>\n",
       "  </tbody>\n",
       "</table>\n",
       "</div>"
      ],
      "text/plain": [
       "            Twitter ID                                               Path  \\\n",
       "0  1001826179899449344  [{'created_at': 'Wed May 30 14:02:28 +0000 201...   \n",
       "1  1000073610290180096  [{'created_at': 'Fri May 25 17:58:23 +0000 201...   \n",
       "2   996431829845626881  [{'created_at': 'Tue May 15 16:47:15 +0000 201...   \n",
       "3  1001725199073587200  [{'created_at': 'Wed May 30 07:21:13 +0000 201...   \n",
       "4   999937420513632256  [{'created_at': 'Fri May 25 08:57:13 +0000 201...   \n",
       "\n",
       "   Path_lenght              Relationships  Date Start  Date End  \\\n",
       "0            1               ['RETWEETS']         NaN       NaN   \n",
       "1            1              ['QUOTED_TO']         NaN       NaN   \n",
       "2            2  ['RETWEETS', 'QUOTED_TO']         NaN       NaN   \n",
       "3            1               ['RETWEETS']         NaN       NaN   \n",
       "4            1               ['RETWEETS']         NaN       NaN   \n",
       "\n",
       "                                           Nodes IDs  \n",
       "0     ['1001826179899449344', '1001679970761166848']  \n",
       "1      ['1000073610290180096', '989475441059794944']  \n",
       "2  ['996431829845626881', '996425299976949763', '...  \n",
       "3     ['1001725199073587200', '1001690597843984384']  \n",
       "4       ['999937420513632256', '999203269086871552']  "
      ]
     },
     "execution_count": 5,
     "metadata": {},
     "output_type": "execute_result"
    }
   ],
   "source": [
    "df = pd.read_csv(\"conversations/h5.csv\", sep=\"\\t\", header=None)\n",
    "df2 = pd.read_csv(\"conversations/h6.csv\", sep=\"\\t\", header=None)\n",
    "df3 = pd.read_csv(\"conversations/h7.csv\", sep=\"\\t\", header=None)\n",
    "df = pd.concat([df, df2, df3])\n",
    "df.columns = ['Twitter ID', 'Path', 'Path_lenght', 'Relationships', 'Date Start', 'Date End', 'Nodes IDs']\n",
    "df.head()"
   ]
  },
  {
   "cell_type": "markdown",
   "metadata": {},
   "source": [
    "## Stats on the length of the Conversations. "
   ]
  },
  {
   "cell_type": "code",
   "execution_count": 6,
   "metadata": {},
   "outputs": [
    {
     "data": {
      "text/plain": [
       "14374"
      ]
     },
     "execution_count": 6,
     "metadata": {},
     "output_type": "execute_result"
    }
   ],
   "source": [
    "len(df)"
   ]
  },
  {
   "cell_type": "code",
   "execution_count": 7,
   "metadata": {},
   "outputs": [],
   "source": [
    "df_conversations  = pd.DataFrame(columns=['N', 'Mean', 'Standard Dev', 'Min', 'Max'])"
   ]
  },
  {
   "cell_type": "code",
   "execution_count": 8,
   "metadata": {},
   "outputs": [],
   "source": [
    "df_conversations.loc['Conversations Paths'] = [len(df), df['Path_lenght'].mean(), df.loc[:,\"Path_lenght\"].std(), min(df.loc[:,\"Path_lenght\"]), max(df.loc[:,\"Path_lenght\"])]"
   ]
  },
  {
   "cell_type": "code",
   "execution_count": 9,
   "metadata": {},
   "outputs": [
    {
     "data": {
      "text/html": [
       "<div>\n",
       "<style scoped>\n",
       "    .dataframe tbody tr th:only-of-type {\n",
       "        vertical-align: middle;\n",
       "    }\n",
       "\n",
       "    .dataframe tbody tr th {\n",
       "        vertical-align: top;\n",
       "    }\n",
       "\n",
       "    .dataframe thead th {\n",
       "        text-align: right;\n",
       "    }\n",
       "</style>\n",
       "<table border=\"1\" class=\"dataframe\">\n",
       "  <thead>\n",
       "    <tr style=\"text-align: right;\">\n",
       "      <th></th>\n",
       "      <th>N</th>\n",
       "      <th>Mean</th>\n",
       "      <th>Standard Dev</th>\n",
       "      <th>Min</th>\n",
       "      <th>Max</th>\n",
       "    </tr>\n",
       "  </thead>\n",
       "  <tbody>\n",
       "    <tr>\n",
       "      <th>Conversations Paths</th>\n",
       "      <td>14374.0</td>\n",
       "      <td>1.304647</td>\n",
       "      <td>0.575295</td>\n",
       "      <td>1.0</td>\n",
       "      <td>11.0</td>\n",
       "    </tr>\n",
       "  </tbody>\n",
       "</table>\n",
       "</div>"
      ],
      "text/plain": [
       "                           N      Mean  Standard Dev  Min   Max\n",
       "Conversations Paths  14374.0  1.304647      0.575295  1.0  11.0"
      ]
     },
     "execution_count": 9,
     "metadata": {},
     "output_type": "execute_result"
    }
   ],
   "source": [
    "df_conversations"
   ]
  },
  {
   "cell_type": "markdown",
   "metadata": {},
   "source": [
    "## Stats on Retweets, Comments (Quotes + Replies), Likes"
   ]
  },
  {
   "cell_type": "code",
   "execution_count": 68,
   "metadata": {},
   "outputs": [],
   "source": [
    "import re\n",
    "def get_observations(labels, df):\n",
    "    observations = [] \n",
    "    for index, row in df.iterrows():\n",
    "        n=0\n",
    "        if 'LIKES' in labels:\n",
    "            print (row['Path'])\n",
    "            n = get_likes(row['Path'])\n",
    "            break\n",
    "        else: \n",
    "            for label in labels:\n",
    "                if pd.notnull(row['Relationships']):\n",
    "                     n = n + (row['Relationships'].count(label))\n",
    "        observations.append(n)\n",
    "    return observations\n",
    "\n",
    "def get_likes(path):\n",
    "    n = 0\n",
    "    pos = [m.start() for m in re.finditer(\", 'likes': \", a)]\n",
    "    for i in pos:\n",
    "        start = a.find('\\'',i+11) +1 \n",
    "        end = a.find('\\'',start)\n",
    "        n = int(a[start:end])\n",
    "        print(n)"
   ]
  },
  {
   "cell_type": "code",
   "execution_count": 76,
   "metadata": {},
   "outputs": [
    {
     "name": "stdout",
     "output_type": "stream",
     "text": [
      "0\n",
      "4273\n",
      "0\n",
      "4273\n"
     ]
    }
   ],
   "source": [
    "a = \"[{'created_at': 'Wed May 30 14:02:28 +0000 2018', 'eco': 'MT', 'likes': '0', 'lang': 'fa', 'tid': '1001826179899449344', 'text': 'RT @G0NEWITHTHEWlND: شیشه میکشید.سال 91. همین موقع ها.. امتحان جبرو احتمال داشتم. ساعت 3صبح خوابیدم برای 8که امتحان داشتم چشمام که سنگین شد…'}, {'eco': 'MT'}, {'created_at': 'Wed May 30 04:21:30 +0000 2018', 'eco': 'MT', 'likes': '4273', 'lang': 'fa', 'tid': '1001679970761166848', 'text': 'شیشه میکشید.سال 91. همین موقع ها.. امتحان جبرو احتمال داشتم. ساعت 3صبح خوابیدم برای 8که امتحان داشتم چشمام که سنگین شد یهو اومد بالای سرم و شروع کرد به بوسیدن سینه هام.. فقط تونستم جیغ بکشم .. هیچی نگفت. فحش داد رفت بیرون.. پدرم !پدر واقعی خودم ! ناپدری نه !!  پدر!!  #MeToo'}, {'created_at': 'Wed May 30 14:02:28 +0000 2018', 'eco': 'MT', 'likes': '0', 'lang': 'fa', 'tid': '1001826179899449344', 'text': 'RT @G0NEWITHTHEWlND: شیشه میکشید.سال 91. همین موقع ها.. امتحان جبرو احتمال داشتم. ساعت 3صبح خوابیدم برای 8که امتحان داشتم چشمام که سنگین شد…'}, {'eco': 'MT'}, {'created_at': 'Wed May 30 04:21:30 +0000 2018', 'eco': 'MT', 'likes': '4273', 'lang': 'fa', 'tid': '1001679970761166848', 'text': 'شیشه میکشید.سال 91. همین موقع ها.. امتحان جبرو احتمال داشتم. ساعت 3صبح خوابیدم برای 8که امتحان داشتم چشمام که سنگین شد یهو اومد بالای سرم و شروع کرد به بوسیدن سینه هام.. فقط تونستم جیغ بکشم .. هیچی نگفت. فحش داد رفت بیرون.. پدرم !پدر واقعی خودم ! ناپدری نه !!  پدر!!  #MeToo'}]\"\n",
    "\n",
    "import re\n",
    "pos = [m.start() for m in re.finditer(\", 'likes': \", a)]\n",
    "for i in pos:\n",
    "    start = a.find('\\'',i+11) +1 \n",
    "    end = a.find('\\'',start)\n",
    "    n = int(a[start:end])\n",
    "    print(n)"
   ]
  },
  {
   "cell_type": "code",
   "execution_count": 69,
   "metadata": {},
   "outputs": [
    {
     "name": "stdout",
     "output_type": "stream",
     "text": [
      "[{'created_at': 'Wed May 30 14:02:28 +0000 2018', 'eco': 'MT', 'likes': '0', 'lang': 'fa', 'tid': '1001826179899449344', 'text': 'RT @G0NEWITHTHEWlND: شیشه میکشید.سال 91. همین موقع ها.. امتحان جبرو احتمال داشتم. ساعت 3صبح خوابیدم برای 8که امتحان داشتم چشمام که سنگین شد…'}, {'eco': 'MT'}, {'created_at': 'Wed May 30 04:21:30 +0000 2018', 'eco': 'MT', 'likes': '4273', 'lang': 'fa', 'tid': '1001679970761166848', 'text': 'شیشه میکشید.سال 91. همین موقع ها.. امتحان جبرو احتمال داشتم. ساعت 3صبح خوابیدم برای 8که امتحان داشتم چشمام که سنگین شد یهو اومد بالای سرم و شروع کرد به بوسیدن سینه هام.. فقط تونستم جیغ بکشم .. هیچی نگفت. فحش داد رفت بیرون.. پدرم !پدر واقعی خودم ! ناپدری نه !!  پدر!!  #MeToo'}]\n"
     ]
    },
    {
     "ename": "TypeError",
     "evalue": "string indices must be integers",
     "output_type": "error",
     "traceback": [
      "\u001b[0;31m---------------------------------------------------------------------------\u001b[0m",
      "\u001b[0;31mTypeError\u001b[0m                                 Traceback (most recent call last)",
      "\u001b[0;32m<ipython-input-69-0bc9f785470b>\u001b[0m in \u001b[0;36m<module>\u001b[0;34m\u001b[0m\n\u001b[1;32m      1\u001b[0m \u001b[0;31m#df = df.append(pd.DataFrame(get_observations(['REPLIES_TO', 'QUOTED_TO'], df), columns=['Comments']), sort=False)\u001b[0m\u001b[0;34m\u001b[0m\u001b[0;34m\u001b[0m\u001b[0m\n\u001b[0;32m----> 2\u001b[0;31m \u001b[0mdf\u001b[0m \u001b[0;34m=\u001b[0m \u001b[0mdf\u001b[0m\u001b[0;34m.\u001b[0m\u001b[0mappend\u001b[0m\u001b[0;34m(\u001b[0m\u001b[0mpd\u001b[0m\u001b[0;34m.\u001b[0m\u001b[0mDataFrame\u001b[0m\u001b[0;34m(\u001b[0m\u001b[0mget_observations\u001b[0m\u001b[0;34m(\u001b[0m\u001b[0;34m[\u001b[0m\u001b[0;34m'LIKES'\u001b[0m\u001b[0;34m]\u001b[0m\u001b[0;34m,\u001b[0m \u001b[0mdf\u001b[0m\u001b[0;34m)\u001b[0m\u001b[0;34m,\u001b[0m \u001b[0mcolumns\u001b[0m\u001b[0;34m=\u001b[0m\u001b[0;34m[\u001b[0m\u001b[0;34m'Likes'\u001b[0m\u001b[0;34m]\u001b[0m\u001b[0;34m)\u001b[0m\u001b[0;34m,\u001b[0m \u001b[0msort\u001b[0m\u001b[0;34m=\u001b[0m\u001b[0;32mFalse\u001b[0m\u001b[0;34m)\u001b[0m\u001b[0;34m\u001b[0m\u001b[0m\n\u001b[0m\u001b[1;32m      3\u001b[0m \u001b[0mdf\u001b[0m \u001b[0;34m=\u001b[0m \u001b[0mdf\u001b[0m\u001b[0;34m.\u001b[0m\u001b[0mappend\u001b[0m\u001b[0;34m(\u001b[0m\u001b[0mpd\u001b[0m\u001b[0;34m.\u001b[0m\u001b[0mDataFrame\u001b[0m\u001b[0;34m(\u001b[0m\u001b[0mget_observations\u001b[0m\u001b[0;34m(\u001b[0m\u001b[0;34m[\u001b[0m\u001b[0;34m'RETWEETS'\u001b[0m\u001b[0;34m]\u001b[0m\u001b[0;34m,\u001b[0m \u001b[0mdf\u001b[0m\u001b[0;34m)\u001b[0m\u001b[0;34m,\u001b[0m \u001b[0mcolumns\u001b[0m\u001b[0;34m=\u001b[0m\u001b[0;34m[\u001b[0m\u001b[0;34m'Retweets'\u001b[0m\u001b[0;34m]\u001b[0m\u001b[0;34m)\u001b[0m\u001b[0;34m,\u001b[0m \u001b[0msort\u001b[0m\u001b[0;34m=\u001b[0m\u001b[0;32mFalse\u001b[0m\u001b[0;34m)\u001b[0m\u001b[0;34m\u001b[0m\u001b[0m\n",
      "\u001b[0;32m<ipython-input-68-465ce6e0335c>\u001b[0m in \u001b[0;36mget_observations\u001b[0;34m(labels, df)\u001b[0m\n\u001b[1;32m      6\u001b[0m         \u001b[0;32mif\u001b[0m \u001b[0;34m'LIKES'\u001b[0m \u001b[0;32min\u001b[0m \u001b[0mlabels\u001b[0m\u001b[0;34m:\u001b[0m\u001b[0;34m\u001b[0m\u001b[0m\n\u001b[1;32m      7\u001b[0m             \u001b[0mprint\u001b[0m \u001b[0;34m(\u001b[0m\u001b[0mrow\u001b[0m\u001b[0;34m[\u001b[0m\u001b[0;34m'Path'\u001b[0m\u001b[0;34m]\u001b[0m\u001b[0;34m)\u001b[0m\u001b[0;34m\u001b[0m\u001b[0m\n\u001b[0;32m----> 8\u001b[0;31m             \u001b[0mn\u001b[0m \u001b[0;34m=\u001b[0m \u001b[0mget_likes\u001b[0m\u001b[0;34m(\u001b[0m\u001b[0mrow\u001b[0m\u001b[0;34m[\u001b[0m\u001b[0;34m'Path'\u001b[0m\u001b[0;34m]\u001b[0m\u001b[0;34m)\u001b[0m\u001b[0;34m\u001b[0m\u001b[0m\n\u001b[0m\u001b[1;32m      9\u001b[0m             \u001b[0;32mbreak\u001b[0m\u001b[0;34m\u001b[0m\u001b[0m\n\u001b[1;32m     10\u001b[0m         \u001b[0;32melse\u001b[0m\u001b[0;34m:\u001b[0m\u001b[0;34m\u001b[0m\u001b[0m\n",
      "\u001b[0;32m<ipython-input-68-465ce6e0335c>\u001b[0m in \u001b[0;36mget_likes\u001b[0;34m(path)\u001b[0m\n\u001b[1;32m     18\u001b[0m     \u001b[0mn\u001b[0m \u001b[0;34m=\u001b[0m \u001b[0;36m0\u001b[0m\u001b[0;34m\u001b[0m\u001b[0m\n\u001b[1;32m     19\u001b[0m     \u001b[0;32mfor\u001b[0m \u001b[0mp\u001b[0m \u001b[0;32min\u001b[0m \u001b[0mpath\u001b[0m\u001b[0;34m:\u001b[0m\u001b[0;34m\u001b[0m\u001b[0m\n\u001b[0;32m---> 20\u001b[0;31m         \u001b[0mn\u001b[0m \u001b[0;34m=\u001b[0m \u001b[0mn\u001b[0m \u001b[0;34m+\u001b[0m \u001b[0mp\u001b[0m\u001b[0;34m[\u001b[0m\u001b[0;34m'likes'\u001b[0m\u001b[0;34m]\u001b[0m\u001b[0;34m\u001b[0m\u001b[0m\n\u001b[0m\u001b[1;32m     21\u001b[0m     \u001b[0;32mreturn\u001b[0m \u001b[0mn\u001b[0m\u001b[0;34m\u001b[0m\u001b[0m\n",
      "\u001b[0;31mTypeError\u001b[0m: string indices must be integers"
     ]
    }
   ],
   "source": [
    "#df = df.append(pd.DataFrame(get_observations(['REPLIES_TO', 'QUOTED_TO'], df), columns=['Comments']), sort=False)\n",
    "df = df.append(pd.DataFrame(get_observations(['LIKES'], df), columns=['Likes']), sort=False)\n",
    "df = df.append(pd.DataFrame(get_observations(['RETWEETS'], df), columns=['Retweets']), sort=False)"
   ]
  },
  {
   "cell_type": "code",
   "execution_count": null,
   "metadata": {},
   "outputs": [],
   "source": [
    "df.head()"
   ]
  },
  {
   "cell_type": "code",
   "execution_count": null,
   "metadata": {},
   "outputs": [],
   "source": []
  },
  {
   "cell_type": "code",
   "execution_count": 51,
   "metadata": {},
   "outputs": [],
   "source": [
    "def get_stats(labels, df):\n",
    "    #['N', 'Mean', 'Standard Dev', 'Min', 'Max']\n",
    "    stats = [] \n",
    "    for label in labels:\n",
    "        if label == 'LIKES':\n",
    "            return getLikes()\n",
    "        else:\n",
    "\n",
    "            for a in df['Relationships']:\n",
    "               \n",
    "        return stats"
   ]
  },
  {
   "cell_type": "code",
   "execution_count": 52,
   "metadata": {},
   "outputs": [
    {
     "name": "stdout",
     "output_type": "stream",
     "text": [
      "['RETWEETS']\n"
     ]
    },
    {
     "ename": "ValueError",
     "evalue": "cannot set a row with mismatched columns",
     "output_type": "error",
     "traceback": [
      "\u001b[0;31m---------------------------------------------------------------------------\u001b[0m",
      "\u001b[0;31mValueError\u001b[0m                                Traceback (most recent call last)",
      "\u001b[0;32m<ipython-input-52-37f58a550f87>\u001b[0m in \u001b[0;36m<module>\u001b[0;34m\u001b[0m\n\u001b[1;32m      1\u001b[0m \u001b[0mdf_relations\u001b[0m  \u001b[0;34m=\u001b[0m \u001b[0mpd\u001b[0m\u001b[0;34m.\u001b[0m\u001b[0mDataFrame\u001b[0m\u001b[0;34m(\u001b[0m\u001b[0mcolumns\u001b[0m\u001b[0;34m=\u001b[0m\u001b[0;34m[\u001b[0m\u001b[0;34m'N'\u001b[0m\u001b[0;34m,\u001b[0m \u001b[0;34m'Mean'\u001b[0m\u001b[0;34m,\u001b[0m \u001b[0;34m'Standard Dev'\u001b[0m\u001b[0;34m,\u001b[0m \u001b[0;34m'Min'\u001b[0m\u001b[0;34m,\u001b[0m \u001b[0;34m'Max'\u001b[0m\u001b[0;34m]\u001b[0m\u001b[0;34m)\u001b[0m\u001b[0;34m\u001b[0m\u001b[0m\n\u001b[0;32m----> 2\u001b[0;31m \u001b[0mdf_relations\u001b[0m\u001b[0;34m.\u001b[0m\u001b[0mloc\u001b[0m\u001b[0;34m[\u001b[0m\u001b[0;34m'Comments'\u001b[0m\u001b[0;34m]\u001b[0m \u001b[0;34m=\u001b[0m \u001b[0mget_stats\u001b[0m\u001b[0;34m(\u001b[0m\u001b[0;34m[\u001b[0m\u001b[0;34m'REPLIES_TO'\u001b[0m\u001b[0;34m,\u001b[0m \u001b[0;34m'QUOTED_TO'\u001b[0m\u001b[0;34m]\u001b[0m\u001b[0;34m,\u001b[0m \u001b[0mdf\u001b[0m\u001b[0;34m)\u001b[0m\u001b[0;34m\u001b[0m\u001b[0m\n\u001b[0m\u001b[1;32m      3\u001b[0m \u001b[0mdf_relations\u001b[0m\u001b[0;34m.\u001b[0m\u001b[0mloc\u001b[0m\u001b[0;34m[\u001b[0m\u001b[0;34m'Likes'\u001b[0m\u001b[0;34m]\u001b[0m \u001b[0;34m=\u001b[0m \u001b[0mget_stats\u001b[0m\u001b[0;34m(\u001b[0m\u001b[0;34m[\u001b[0m\u001b[0;34m'LIKES'\u001b[0m\u001b[0;34m]\u001b[0m\u001b[0;34m,\u001b[0m \u001b[0mdf\u001b[0m\u001b[0;34m)\u001b[0m\u001b[0;34m\u001b[0m\u001b[0m\n\u001b[1;32m      4\u001b[0m \u001b[0mdf_relations\u001b[0m\u001b[0;34m.\u001b[0m\u001b[0mloc\u001b[0m\u001b[0;34m[\u001b[0m\u001b[0;34m'Retweets'\u001b[0m\u001b[0;34m]\u001b[0m \u001b[0;34m=\u001b[0m \u001b[0mget_stats\u001b[0m\u001b[0;34m(\u001b[0m\u001b[0;34m[\u001b[0m\u001b[0;34m'RETWEETS'\u001b[0m\u001b[0;34m]\u001b[0m\u001b[0;34m,\u001b[0m \u001b[0mdf\u001b[0m\u001b[0;34m)\u001b[0m\u001b[0;34m\u001b[0m\u001b[0m\n\u001b[1;32m      5\u001b[0m \u001b[0mdf_relations\u001b[0m\u001b[0;34m\u001b[0m\u001b[0m\n",
      "\u001b[0;32m~/git/.virtualenvs/social_protests/lib/python3.5/site-packages/pandas/core/indexing.py\u001b[0m in \u001b[0;36m__setitem__\u001b[0;34m(self, key, value)\u001b[0m\n\u001b[1;32m    187\u001b[0m             \u001b[0mkey\u001b[0m \u001b[0;34m=\u001b[0m \u001b[0mcom\u001b[0m\u001b[0;34m.\u001b[0m\u001b[0m_apply_if_callable\u001b[0m\u001b[0;34m(\u001b[0m\u001b[0mkey\u001b[0m\u001b[0;34m,\u001b[0m \u001b[0mself\u001b[0m\u001b[0;34m.\u001b[0m\u001b[0mobj\u001b[0m\u001b[0;34m)\u001b[0m\u001b[0;34m\u001b[0m\u001b[0m\n\u001b[1;32m    188\u001b[0m         \u001b[0mindexer\u001b[0m \u001b[0;34m=\u001b[0m \u001b[0mself\u001b[0m\u001b[0;34m.\u001b[0m\u001b[0m_get_setitem_indexer\u001b[0m\u001b[0;34m(\u001b[0m\u001b[0mkey\u001b[0m\u001b[0;34m)\u001b[0m\u001b[0;34m\u001b[0m\u001b[0m\n\u001b[0;32m--> 189\u001b[0;31m         \u001b[0mself\u001b[0m\u001b[0;34m.\u001b[0m\u001b[0m_setitem_with_indexer\u001b[0m\u001b[0;34m(\u001b[0m\u001b[0mindexer\u001b[0m\u001b[0;34m,\u001b[0m \u001b[0mvalue\u001b[0m\u001b[0;34m)\u001b[0m\u001b[0;34m\u001b[0m\u001b[0m\n\u001b[0m\u001b[1;32m    190\u001b[0m \u001b[0;34m\u001b[0m\u001b[0m\n\u001b[1;32m    191\u001b[0m     \u001b[0;32mdef\u001b[0m \u001b[0m_validate_key\u001b[0m\u001b[0;34m(\u001b[0m\u001b[0mself\u001b[0m\u001b[0;34m,\u001b[0m \u001b[0mkey\u001b[0m\u001b[0;34m,\u001b[0m \u001b[0maxis\u001b[0m\u001b[0;34m)\u001b[0m\u001b[0;34m:\u001b[0m\u001b[0;34m\u001b[0m\u001b[0m\n",
      "\u001b[0;32m~/git/.virtualenvs/social_protests/lib/python3.5/site-packages/pandas/core/indexing.py\u001b[0m in \u001b[0;36m_setitem_with_indexer\u001b[0;34m(self, indexer, value)\u001b[0m\n\u001b[1;32m    443\u001b[0m                         \u001b[0;32mif\u001b[0m \u001b[0mis_list_like_indexer\u001b[0m\u001b[0;34m(\u001b[0m\u001b[0mvalue\u001b[0m\u001b[0;34m)\u001b[0m\u001b[0;34m:\u001b[0m\u001b[0;34m\u001b[0m\u001b[0m\n\u001b[1;32m    444\u001b[0m                             \u001b[0;32mif\u001b[0m \u001b[0mlen\u001b[0m\u001b[0;34m(\u001b[0m\u001b[0mvalue\u001b[0m\u001b[0;34m)\u001b[0m \u001b[0;34m!=\u001b[0m \u001b[0mlen\u001b[0m\u001b[0;34m(\u001b[0m\u001b[0mself\u001b[0m\u001b[0;34m.\u001b[0m\u001b[0mobj\u001b[0m\u001b[0;34m.\u001b[0m\u001b[0mcolumns\u001b[0m\u001b[0;34m)\u001b[0m\u001b[0;34m:\u001b[0m\u001b[0;34m\u001b[0m\u001b[0m\n\u001b[0;32m--> 445\u001b[0;31m                                 raise ValueError(\"cannot set a row with \"\n\u001b[0m\u001b[1;32m    446\u001b[0m                                                  \"mismatched columns\")\n\u001b[1;32m    447\u001b[0m \u001b[0;34m\u001b[0m\u001b[0m\n",
      "\u001b[0;31mValueError\u001b[0m: cannot set a row with mismatched columns"
     ]
    }
   ],
   "source": [
    "df_relations  = pd.DataFrame(columns=['N', 'Mean', 'Standard Dev', 'Min', 'Max'])\n",
    "df_relations.loc['Comments'] = get_stats(['REPLIES_TO', 'QUOTED_TO'], df)\n",
    "df_relations.loc['Likes'] = get_stats(['LIKES'], df)\n",
    "df_relations.loc['Retweets'] = get_stats(['RETWEETS'], df)\n",
    "df_relations"
   ]
  },
  {
   "cell_type": "code",
   "execution_count": null,
   "metadata": {},
   "outputs": [],
   "source": []
  }
 ],
 "metadata": {
  "kernelspec": {
   "display_name": "Python 3",
   "language": "python",
   "name": "python3"
  },
  "language_info": {
   "codemirror_mode": {
    "name": "ipython",
    "version": 3
   },
   "file_extension": ".py",
   "mimetype": "text/x-python",
   "name": "python",
   "nbconvert_exporter": "python",
   "pygments_lexer": "ipython3",
   "version": "3.5.2"
  }
 },
 "nbformat": 4,
 "nbformat_minor": 2
}
