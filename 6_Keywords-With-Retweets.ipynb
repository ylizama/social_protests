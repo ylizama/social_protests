{
 "cells": [
  {
   "cell_type": "code",
   "execution_count": 1,
   "metadata": {},
   "outputs": [],
   "source": [
    "%reload_ext cypher\n",
    "import matplotlib\n",
    "import pandas as pd\n",
    "import matplotlib.pyplot as plt\n",
    "import datetime\n",
    "%matplotlib inline\n",
    "import string\n",
    "import numpy as np\n",
    "import nltk\n",
    "from nltk.corpus import stopwords\n",
    "from nltk import ngrams\n",
    "import operator\n",
    "from itertools import islice\n",
    "from tabulate import tabulate\n",
    "import seaborn as sns\n",
    "import re"
   ]
  },
  {
   "cell_type": "code",
   "execution_count": 2,
   "metadata": {},
   "outputs": [
    {
     "name": "stdout",
     "output_type": "stream",
     "text": [
      "944434 rows affected.\n"
     ]
    }
   ],
   "source": [
    "tweets = %cypher match  (n:tweet)<-[r :TWEETS]-(n2:user) where n.lang = 'en' return n.text  as text"
   ]
  },
  {
   "cell_type": "code",
   "execution_count": 3,
   "metadata": {},
   "outputs": [],
   "source": [
    "stop_words_ = set(stopwords.words('english'))  \n",
    "new_set = set(['000', 'de', 'rt', 'http', 'https', 'amp', '1', '25', 'pm', '2', 'rtudf0a', 'udf0a', 'lifeudc68udfff', 'udfa4udc69udffb', 'udfa8', 'udf08udf37udf3audd16', 'lmaooooooooooooooooooooooooooooooooooooooooooooude02ude02', 'udf31small', 'it’s' ])\n",
    "stop_words_ = stop_words_.union(new_set)"
   ]
  },
  {
   "cell_type": "code",
   "execution_count": 4,
   "metadata": {},
   "outputs": [],
   "source": [
    "def getNGram(text, n, stop_words, m):\n",
    "    punct_signs = list(string.punctuation)\n",
    "    punct_signs.append('…')\n",
    "    punct_signs.append('¿')\n",
    "    for p in punct_signs:\n",
    "        text = text.replace(p, ' ')\n",
    "    clean_text = text.lower().split()\n",
    "    clean_text = [w for w in clean_text if w not in stop_words_]\n",
    "    total = len(clean_text)\n",
    "    h_dict = {}   \n",
    "    ngramas = ngrams(clean_text, n)\n",
    "    for grams in ngramas:\n",
    "        words = ' '.join(grams)        \n",
    "        words = words.strip() \n",
    "        if words in h_dict:\n",
    "            h_dict[words] = h_dict[words] + 1\n",
    "        else: \n",
    "            h_dict[words] = 1 \n",
    "    sorted_dict = sorted(h_dict.items(), key=operator.itemgetter(1), reverse=True)\n",
    "    if m >=1:\n",
    "        results = list(islice(sorted_dict,  m))\n",
    "        results = [(v[0], v[1], v[1] * 100 / total) for v in results]\n",
    "        return results\n",
    "    else:\n",
    "        return list(islice(sorted_dict, None))\n",
    "    \n",
    "def clean_tweets(tweets):\n",
    "    patternUrl = re.compile('http[s]?://(?:[a-zA-Z]|[0-9]|[$-_@.&+]|[!*\\(\\),]|(?:%[0-9a-fA-F][0-9a-fA-F]))+')\n",
    "    patternUsers =  re.compile('@(?:[a-zA-Z]|[0-9]|[$-_@.&+]|[!*\\(\\),]|(?:%[0-9a-fA-F][0-9a-fA-F]))+')\n",
    "    patternTags = re.compile('#(?:[a-zA-Z]|[0-9]|[$-_@.&+]|[!*\\(\\),]|(?:%[0-9a-fA-F][0-9a-fA-F]))+')\n",
    "    allTweets = pd.Series(tweets).str.cat(sep='\\n')\n",
    "    allTweets = patternUrl.sub('', allTweets) #removing urls \n",
    "    allTweets = patternUsers.sub('', allTweets) #removing users\n",
    "    allTweets = patternTags.sub('', allTweets) #removing tags\n",
    "    return allTweets"
   ]
  },
  {
   "cell_type": "code",
   "execution_count": 5,
   "metadata": {},
   "outputs": [],
   "source": [
    "allTweets = clean_tweets(tweets.get_dataframe().text)"
   ]
  },
  {
   "cell_type": "markdown",
   "metadata": {},
   "source": [
    "## Top 30 unigrams in Tweets"
   ]
  },
  {
   "cell_type": "code",
   "execution_count": 6,
   "metadata": {
    "scrolled": true
   },
   "outputs": [
    {
     "name": "stdout",
     "output_type": "stream",
     "text": [
      "Ngram       Number    % of the total (without stopwords)\n",
      "--------  --------  ------------------------------------\n",
      "people      154532                              1.51016\n",
      "black       129951                              1.26994\n",
      "killed      120889                              1.18139\n",
      "think       114575                              1.11968\n",
      "police      111280                              1.08748\n",
      "continue    105051                              1.02661\n",
      "tv          102914                              1.00572\n",
      "armed       101430                              0.991222\n",
      "gets        100812                              0.985183\n",
      "they’re      99166                              0.969098\n",
      "campus       98858                              0.966088\n",
      "rifle        98489                              0.962482\n",
      "brings       97980                              0.957507\n",
      "pla          97715                              0.954918\n",
      "school       87727                              0.85731\n",
      "gun          63704                              0.622546\n",
      "women        56405                              0.551217\n",
      "movement     45600                              0.445625\n",
      "shooting     42833                              0.418585\n",
      "sexual       41050                              0.40116\n",
      "need         37926                              0.370631\n",
      "guns         37546                              0.366917\n",
      "children     35854                              0.350382\n",
      "high         34098                              0.333222\n",
      "like         33396                              0.326362\n",
      "one          31209                              0.304989\n",
      "fe           30893                              0.301901\n",
      "santa        30383                              0.296917\n",
      "men          28728                              0.280744\n",
      "today        28604                              0.279532\n"
     ]
    }
   ],
   "source": [
    "final = getNGram(allTweets, 1, stop_words_, 30)\n",
    "print(tabulate(final, ['Ngram', 'Number', '% of the total (without stopwords)']))"
   ]
  },
  {
   "cell_type": "code",
   "execution_count": 7,
   "metadata": {},
   "outputs": [
    {
     "data": {
      "image/png": "[encoded data removed]",
      "text/plain": [
       "<Figure size 504x288 with 1 Axes>"
      ]
     },
     "metadata": {},
     "output_type": "display_data"
    }
   ],
   "source": [
    "sns.set_context('talk')\n",
    "sns.set_style('darkgrid')\n",
    "columns = ['Ngram', 'Occurrences', '% of total']\n",
    "\n",
    "dfnGrams = pd.DataFrame([x for x in final], columns=columns)\n",
    "\n",
    "dfnGrams = dfnGrams[['Ngram', 'Occurrences']][:15]\n",
    "dfnGrams =  dfnGrams.set_index('Ngram')\n",
    "ax = dfnGrams.plot(kind='bar',  use_index=True, color='#362284', rot=75, figsize=(7, 4))\n",
    "ax.set_xlabel(\" \");\n",
    "plt.savefig('Popular_unigramsPurple.png', format='png', dpi=600, bbox_inches = 'tight' )\n",
    "plt.show()"
   ]
  },
  {
   "cell_type": "markdown",
   "metadata": {},
   "source": [
    "## Top 30 bigrams "
   ]
  },
  {
   "cell_type": "code",
   "execution_count": 8,
   "metadata": {
    "scrolled": false
   },
   "outputs": [
    {
     "name": "stdout",
     "output_type": "stream",
     "text": [
      "Ngram               Number    % of the total without stopwords\n",
      "----------------  --------  ----------------------------------\n",
      "black people         99216                            0.969586\n",
      "killed police        97786                            0.955612\n",
      "people continue      97714                            0.954908\n",
      "think they’re        97711                            0.954879\n",
      "gets tv              97701                            0.954781\n",
      "rifle campus         97697                            0.954742\n",
      "police think         97693                            0.954703\n",
      "campus gets          97688                            0.954654\n",
      "they’re armed        97688                            0.954654\n",
      "brings rifle         97686                            0.954634\n",
      "continue killed      97685                            0.954625\n",
      "armed brings         97684                            0.954615\n",
      "tv pla               97683                            0.954605\n",
      "santa fe             30177                            0.294904\n",
      "high school          28563                            0.279131\n",
      "school shooting      24223                            0.236719\n",
      "ar 15                18719                            0.182931\n",
      "thoughts prayers     17001                            0.166142\n",
      "harvey weinstein     16074                            0.157083\n",
      "fe high              12614                            0.12327\n",
      "tamir rice           12222                            0.119439\n",
      "black child          12126                            0.118501\n",
      "school g             12126                            0.118501\n",
      "state black          12109                            0.118335\n",
      "death school         12083                            0.118081\n",
      "holding toy          12080                            0.118052\n",
      "brought weapon       12070                            0.117954\n",
      "weapon death         12069                            0.117944\n",
      "executed holding     12067                            0.117924\n",
      "rice executed        12066                            0.117915\n"
     ]
    }
   ],
   "source": [
    "final2 = getNGram(allTweets, 2, stop_words_, 30)\n",
    "print(tabulate(final2, ['Ngram', 'Number', '% of the total without stopwords']))"
   ]
  },
  {
   "cell_type": "markdown",
   "metadata": {},
   "source": [
    "## Top 30 trigramas "
   ]
  },
  {
   "cell_type": "code",
   "execution_count": 9,
   "metadata": {},
   "outputs": [
    {
     "name": "stdout",
     "output_type": "stream",
     "text": [
      "Ngram                     Number    % of the total without stopwords\n",
      "----------------------  --------  ----------------------------------\n",
      "rifle campus gets          97686                           0.954634\n",
      "brings rifle campus        97686                           0.954634\n",
      "campus gets tv             97686                           0.954634\n",
      "killed police think        97686                           0.954634\n",
      "think they’re armed        97685                           0.954625\n",
      "police think they’re       97685                           0.954625\n",
      "continue killed police     97684                           0.954615\n",
      "armed brings rifle         97684                           0.954615\n",
      "black people continue      97684                           0.954615\n",
      "they’re armed brings       97684                           0.954615\n",
      "people continue killed     97684                           0.954615\n",
      "gets tv pla                97683                           0.954605\n",
      "santa fe high              12374                           0.120925\n",
      "state black child          12069                           0.117944\n",
      "weapon death school        12067                           0.117924\n",
      "brought weapon death       12066                           0.117915\n",
      "rice executed holding      12066                           0.117915\n",
      "gun—you brought weapon     12066                           0.117915\n",
      "•ohio—the state black      12066                           0.117915\n",
      "executed holding toy       12066                           0.117915\n",
      "child tamir rice           12066                           0.117915\n",
      "black child tamir          12066                           0.117915\n",
      "tamir rice executed        12066                           0.117915\n",
      "toy gun—you brought        12066                           0.117915\n",
      "holding toy gun—you        12066                           0.117915\n",
      "death school g             12063                           0.117885\n",
      "fe high school             11177                           0.109227\n",
      "tv pla black               10305                           0.100705\n",
      "pla black people           10168                           0.0993666\n",
      "nra put together            8873                           0.0867112\n"
     ]
    }
   ],
   "source": [
    "final3 = getNGram(allTweets, 3, stop_words_, 30)\n",
    "print(tabulate(final3, ['Ngram', 'Number', '% of the total without stopwords']))"
   ]
  }
 ],
 "metadata": {
  "kernelspec": {
   "display_name": "Python 3",
   "language": "python",
   "name": "python3"
  },
  "language_info": {
   "codemirror_mode": {
    "name": "ipython",
    "version": 3
   },
   "file_extension": ".py",
   "mimetype": "text/x-python",
   "name": "python",
   "nbconvert_exporter": "python",
   "pygments_lexer": "ipython3",
   "version": "3.5.2"
  }
 },
 "nbformat": 4,
 "nbformat_minor": 2
}
