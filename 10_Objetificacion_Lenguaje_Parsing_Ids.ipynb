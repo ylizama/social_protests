{
 "cells": [
  {
   "cell_type": "code",
   "execution_count": 1,
   "metadata": {},
   "outputs": [],
   "source": [
    "%reload_ext cypher\n",
    "import pandas as pd"
   ]
  },
  {
   "cell_type": "markdown",
   "metadata": {},
   "source": [
    "## Threads - Conversaciones"
   ]
  },
  {
   "cell_type": "code",
   "execution_count": 2,
   "metadata": {},
   "outputs": [
    {
     "name": "stdout",
     "output_type": "stream",
     "text": [
      "1008988 rows affected.\n"
     ]
    }
   ],
   "source": [
    "tweets = %cypher MATCH (n:tweet)-[r :RETWEETS|REPLIES_TO|QUOTED_TO*]-> (m:tweet) return distinct (n.tid) as tid"
   ]
  },
  {
   "cell_type": "code",
   "execution_count": 3,
   "metadata": {},
   "outputs": [
    {
     "data": {
      "text/plain": [
       "1008988"
      ]
     },
     "execution_count": 3,
     "metadata": {},
     "output_type": "execute_result"
    }
   ],
   "source": [
    "tweets_list = list(tweets.get_dataframe().tid)\n",
    "len(tweets_list)"
   ]
  },
  {
   "cell_type": "code",
   "execution_count": 4,
   "metadata": {
    "scrolled": true
   },
   "outputs": [],
   "source": [
    "#all_paths_df =  pd.DataFrame(columns=['tweet_id', 'path', 'path_len', 'relationships', 'hours_diff', 'ids']) "
   ]
  },
  {
   "cell_type": "code",
   "execution_count": 5,
   "metadata": {},
   "outputs": [
    {
     "data": {
      "text/plain": [
       "1008988"
      ]
     },
     "execution_count": 5,
     "metadata": {},
     "output_type": "execute_result"
    }
   ],
   "source": [
    "len(tweets_list)"
   ]
  },
  {
   "cell_type": "code",
   "execution_count": 7,
   "metadata": {},
   "outputs": [],
   "source": [
    "with open('conversations/tweets_ids.txt', 'w') as f:\n",
    "    for item in tweets_list:\n",
    "        f.write(\"%s\\n\" % item)"
   ]
  },
  {
   "cell_type": "code",
   "execution_count": 8,
   "metadata": {},
   "outputs": [],
   "source": [
    "with open('conversations/tweets_ids.txt') as f:\n",
    "    tweets_list = f.read().splitlines()"
   ]
  },
  {
   "cell_type": "code",
   "execution_count": 10,
   "metadata": {},
   "outputs": [
    {
     "data": {
      "text/plain": [
       "1008988"
      ]
     },
     "execution_count": 10,
     "metadata": {},
     "output_type": "execute_result"
    }
   ],
   "source": [
    "len(tweets_list)"
   ]
  },
  {
   "cell_type": "code",
   "execution_count": 10,
   "metadata": {},
   "outputs": [
    {
     "name": "stdout",
     "output_type": "stream",
     "text": [
      "1 rows affected.\n"
     ]
    },
    {
     "data": {
      "text/html": [
       "<table>\n",
       "    <tr>\n",
       "        <th>tweet_id</th>\n",
       "        <th>p</th>\n",
       "        <th>path_len</th>\n",
       "        <th>relationships</th>\n",
       "        <th>date_root</th>\n",
       "        <th>date_leaf</th>\n",
       "    </tr>\n",
       "    <tr>\n",
       "        <td>1002036506050088960</td>\n",
       "        <td>[{&#x27;tid&#x27;: &#x27;1002036506050088960&#x27;, &#x27;eco&#x27;: &#x27;MT&#x27;, &#x27;text&#x27;: &#x27;RT @Toco6234: @Chloe_Melas You are truly disgusting, Chloe. You have singlehandedly ruined the credibilty of yourself as a reporter, and as…&#x27;, &#x27;created_at&#x27;: &#x27;Thu May 31 03:58:14 +0000 2018&#x27;, &#x27;lang&#x27;: &#x27;en&#x27;, &#x27;likes&#x27;: &#x27;0&#x27;}, {&#x27;eco&#x27;: &#x27;MT&#x27;}, {&#x27;tid&#x27;: &#x27;1001913211816480768&#x27;, &#x27;eco&#x27;: &#x27;MT&#x27;, &#x27;text&#x27;: &#x27;@Chloe_Melas You are truly disgusting, Chloe. You have singlehandedly ruined the credibilty of yourself as a reporter, and as a person, the #metoo movement, and CNN. ANYONE who watches that clip can see the truth. You are a joke! #resign #firechloemelas&#x27;, &#x27;created_at&#x27;: &#x27;Wed May 30 19:48:19 +0000 2018&#x27;, &#x27;lang&#x27;: &#x27;en&#x27;, &#x27;likes&#x27;: &#x27;0&#x27;}, {&#x27;eco&#x27;: &#x27;MT&#x27;}, {&#x27;tid&#x27;: &#x27;1000125569776979969&#x27;, &#x27;eco&#x27;: &#x27;MT&#x27;, &#x27;text&#x27;: &#x27;Visa suspends Morgan Freeman campaign after accusations of inappropriate behavior https://t.co/JstzED4Yhr&#x27;, &#x27;created_at&#x27;: &#x27;Fri May 25 21:24:51 +0000 2018&#x27;, &#x27;lang&#x27;: &#x27;en&#x27;, &#x27;likes&#x27;: &#x27;2&#x27;}]</td>\n",
       "        <td>2</td>\n",
       "        <td>[&#x27;RETWEETS&#x27;, &#x27;REPLIES_TO&#x27;]</td>\n",
       "        <td>Thu May 31 03:58:14 +0000 2018</td>\n",
       "        <td>Fri May 25 21:24:51 +0000 2018</td>\n",
       "    </tr>\n",
       "</table>"
      ],
      "text/plain": [
       "[['1002036506050088960',\n",
       "  [{'created_at': 'Thu May 31 03:58:14 +0000 2018',\n",
       "    'eco': 'MT',\n",
       "    'lang': 'en',\n",
       "    'likes': '0',\n",
       "    'text': 'RT @Toco6234: @Chloe_Melas You are truly disgusting, Chloe. You have singlehandedly ruined the credibilty of yourself as a reporter, and as…',\n",
       "    'tid': '1002036506050088960'},\n",
       "   {'eco': 'MT'},\n",
       "   {'created_at': 'Wed May 30 19:48:19 +0000 2018',\n",
       "    'eco': 'MT',\n",
       "    'lang': 'en',\n",
       "    'likes': '0',\n",
       "    'text': '@Chloe_Melas You are truly disgusting, Chloe. You have singlehandedly ruined the credibilty of yourself as a reporter, and as a person, the #metoo movement, and CNN. ANYONE who watches that clip can see the truth. You are a joke! #resign #firechloemelas',\n",
       "    'tid': '1001913211816480768'},\n",
       "   {'eco': 'MT'},\n",
       "   {'created_at': 'Fri May 25 21:24:51 +0000 2018',\n",
       "    'eco': 'MT',\n",
       "    'lang': 'en',\n",
       "    'likes': '2',\n",
       "    'text': 'Visa suspends Morgan Freeman campaign after accusations of inappropriate behavior https://t.co/JstzED4Yhr',\n",
       "    'tid': '1000125569776979969'}],\n",
       "  2,\n",
       "  ['RETWEETS', 'REPLIES_TO'],\n",
       "  'Thu May 31 03:58:14 +0000 2018',\n",
       "  'Fri May 25 21:24:51 +0000 2018']]"
      ]
     },
     "execution_count": 10,
     "metadata": {},
     "output_type": "execute_result"
    }
   ],
   "source": [
    "%cypher MATCH path=(n:tweet)-[r :RETWEETS|REPLIES_TO|QUOTED_TO*]-> (m:tweet) WHERE n.tid = '1002036506050088960' RETURN n.tid as tweet_id, path, length(path) as path_len, [r in relationships(path) | type(r)] as relationships, [t in nodes(path)| t.tid] as nodes ORDER BY path_len DESC LIMIT 1"
   ]
  },
  {
   "cell_type": "code",
   "execution_count": null,
   "metadata": {},
   "outputs": [],
   "source": []
  }
 ],
 "metadata": {
  "kernelspec": {
   "display_name": "Python 3",
   "language": "python",
   "name": "python3"
  },
  "language_info": {
   "codemirror_mode": {
    "name": "ipython",
    "version": 3
   },
   "file_extension": ".py",
   "mimetype": "text/x-python",
   "name": "python",
   "nbconvert_exporter": "python",
   "pygments_lexer": "ipython3",
   "version": "3.5.2"
  }
 },
 "nbformat": 4,
 "nbformat_minor": 2
}
