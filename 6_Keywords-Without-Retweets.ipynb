{
 "cells": [
  {
   "cell_type": "code",
   "execution_count": 2,
   "metadata": {},
   "outputs": [],
   "source": [
    "%reload_ext cypher\n",
    "import matplotlib\n",
    "import pandas as pd\n",
    "import matplotlib.pyplot as plt\n",
    "import datetime\n",
    "%matplotlib inline\n",
    "import string\n",
    "import numpy as np\n",
    "import nltk\n",
    "from nltk.corpus import stopwords\n",
    "from nltk import ngrams\n",
    "import operator\n",
    "from itertools import islice\n",
    "from tabulate import tabulate\n",
    "import seaborn as sns\n",
    "import re"
   ]
  },
  {
   "cell_type": "code",
   "execution_count": 3,
   "metadata": {},
   "outputs": [
    {
     "name": "stdout",
     "output_type": "stream",
     "text": [
      "297166 rows affected.\n"
     ]
    }
   ],
   "source": [
    "tweets = %cypher match  (n:tweet)<-[r :TWEETS]-(n2:user) where n.lang = 'en' return distinct(n.text)  as text"
   ]
  },
  {
   "cell_type": "code",
   "execution_count": 4,
   "metadata": {},
   "outputs": [],
   "source": [
    "stop_words_ = set(stopwords.words('english'))  \n",
    "new_set = set(['000', 'de', 'rt', 'http', 'https', 'amp', '1', '25', 'pm', '2', 'rtudf0a', 'udf0a', 'lifeudc68udfff', 'udfa4udc69udffb', 'udfa8', 'udf08udf37udf3audd16', 'lmaooooooooooooooooooooooooooooooooooooooooooooude02ude02', 'udf31small', 'it’s' ])\n",
    "stop_words_ = stop_words_.union(new_set)"
   ]
  },
  {
   "cell_type": "code",
   "execution_count": 5,
   "metadata": {},
   "outputs": [],
   "source": [
    "def getNGram(text, n, stop_words, m):\n",
    "    punct_signs = list(string.punctuation)\n",
    "    punct_signs.append('…')\n",
    "    punct_signs.append('¿')\n",
    "    for p in punct_signs:\n",
    "        text = text.replace(p, ' ')\n",
    "    clean_text = text.lower().split()\n",
    "    clean_text = [w for w in clean_text if w not in stop_words_]\n",
    "    total = len(clean_text)\n",
    "    h_dict = {}   \n",
    "    ngramas = ngrams(clean_text, n)\n",
    "    for grams in ngramas:\n",
    "        words = ' '.join(grams)        \n",
    "        words = words.strip() \n",
    "        if words in h_dict:\n",
    "            h_dict[words] = h_dict[words] + 1\n",
    "        else: \n",
    "            h_dict[words] = 1 \n",
    "    sorted_dict = sorted(h_dict.items(), key=operator.itemgetter(1), reverse=True)\n",
    "    if m >=1:\n",
    "        results = list(islice(sorted_dict,  m))\n",
    "        results = [(v[0], v[1], v[1] * 100 / total) for v in results]\n",
    "        return results\n",
    "    else:\n",
    "        return list(islice(sorted_dict, None))\n",
    "    \n",
    "def clean_tweets(tweets):\n",
    "    patternUrl = re.compile('http[s]?://(?:[a-zA-Z]|[0-9]|[$-_@.&+]|[!*\\(\\),]|(?:%[0-9a-fA-F][0-9a-fA-F]))+')\n",
    "    patternUsers =  re.compile('@(?:[a-zA-Z]|[0-9]|[$-_@.&+]|[!*\\(\\),]|(?:%[0-9a-fA-F][0-9a-fA-F]))+')\n",
    "    patternTags = re.compile('#(?:[a-zA-Z]|[0-9]|[$-_@.&+]|[!*\\(\\),]|(?:%[0-9a-fA-F][0-9a-fA-F]))+')\n",
    "    allTweets = pd.Series(tweets).str.cat(sep='\\n')\n",
    "    allTweets = patternUrl.sub('', allTweets) #removing urls \n",
    "    allTweets = patternUsers.sub('', allTweets) #removing users\n",
    "    allTweets = patternTags.sub('', allTweets) #removing tags\n",
    "    return allTweets"
   ]
  },
  {
   "cell_type": "code",
   "execution_count": 6,
   "metadata": {},
   "outputs": [],
   "source": [
    "allTweets = clean_tweets(tweets.get_dataframe().text)"
   ]
  },
  {
   "cell_type": "markdown",
   "metadata": {},
   "source": [
    "## Top 30 unigrams in Tweets"
   ]
  },
  {
   "cell_type": "code",
   "execution_count": 7,
   "metadata": {
    "scrolled": true
   },
   "outputs": [
    {
     "name": "stdout",
     "output_type": "stream",
     "text": [
      "Ngram       Number    % of the total (without stopwords)\n",
      "--------  --------  ------------------------------------\n",
      "gun          22046                              0.672519\n",
      "people       21462                              0.654704\n",
      "women        20723                              0.63216\n",
      "school       19781                              0.603424\n",
      "movement     16798                              0.512427\n",
      "like         15987                              0.487687\n",
      "one          13667                              0.416915\n",
      "get          13322                              0.406391\n",
      "need         13093                              0.399405\n",
      "guns         12641                              0.385617\n",
      "sexual       11427                              0.348583\n",
      "shooting     11307                              0.344923\n",
      "time         10853                              0.331073\n",
      "us           10464                              0.319207\n",
      "would        10119                              0.308683\n",
      "children      9383                              0.286231\n",
      "many          9382                              0.2862\n",
      "men           9099                              0.277567\n",
      "know          8927                              0.27232\n",
      "stop          8816                              0.268934\n",
      "trump         8122                              0.247764\n",
      "kids          7959                              0.242791\n",
      "think         7938                              0.242151\n",
      "want          7762                              0.236782\n",
      "right         7724                              0.235622\n",
      "new           7579                              0.231199\n",
      "another       7537                              0.229918\n",
      "via           7486                              0.228362\n",
      "black         7449                              0.227234\n",
      "make          7239                              0.220827\n"
     ]
    }
   ],
   "source": [
    "final = getNGram(allTweets, 1, stop_words_, 30)\n",
    "print(tabulate(final, ['Ngram', 'Number', '% of the total (without stopwords)']))"
   ]
  },
  {
   "cell_type": "code",
   "execution_count": 8,
   "metadata": {},
   "outputs": [
    {
     "data": {
      "image/png": "[encoded data removed]",
      "text/plain": [
       "<Figure size 504x288 with 1 Axes>"
      ]
     },
     "metadata": {},
     "output_type": "display_data"
    }
   ],
   "source": [
    "sns.set_context('talk')\n",
    "sns.set_style('darkgrid')\n",
    "columns = ['Ngram', 'Occurrences', '% of total']\n",
    "\n",
    "dfnGrams = pd.DataFrame([x for x in final], columns=columns)\n",
    "\n",
    "dfnGrams = dfnGrams[['Ngram', 'Occurrences']][:15]\n",
    "dfnGrams =  dfnGrams.set_index('Ngram')\n",
    "ax = dfnGrams.plot(kind='bar',  use_index=True, color='#362284', rot=75, figsize=(7, 4))\n",
    "ax.set_xlabel(\" \");\n",
    "plt.savefig('Popular_unigramsPurple.png', format='png', dpi=600, bbox_inches = 'tight' )\n",
    "plt.show()"
   ]
  },
  {
   "cell_type": "markdown",
   "metadata": {},
   "source": [
    "## Top 30 bigrams "
   ]
  },
  {
   "cell_type": "code",
   "execution_count": 9,
   "metadata": {
    "scrolled": false
   },
   "outputs": [
    {
     "name": "stdout",
     "output_type": "stream",
     "text": [
      "Ngram                Number    % of the total without stopwords\n",
      "-----------------  --------  ----------------------------------\n",
      "school shooting        5023                           0.153228\n",
      "gun control            4950                           0.151001\n",
      "santa fe               4501                           0.137304\n",
      "high school            4166                           0.127085\n",
      "sexual harassment      3719                           0.113449\n",
      "harvey weinstein       3693                           0.112656\n",
      "thoughts prayers       3529                           0.107653\n",
      "morgan freeman         3050                           0.093041\n",
      "school shootings       3003                           0.0916072\n",
      "gun violence           2708                           0.0826082\n",
      "sexual assault         2387                           0.072816\n",
      "fe high                1954                           0.0596072\n",
      "gun laws               1713                           0.0522555\n",
      "mass shooting          1700                           0.0518589\n",
      "bill clinton           1699                           0.0518284\n",
      "climate change         1658                           0.0505777\n",
      "metoo movement         1568                           0.0478322\n",
      "mass shootings         1521                           0.0463985\n",
      "year old               1434                           0.0437445\n",
      "common sense           1404                           0.0428294\n",
      "ar 15                  1279                           0.0390162\n",
      "another school         1278                           0.0389857\n",
      "anthony bourdain       1262                           0.0384976\n",
      "daily thanks           1261                           0.0384671\n",
      "southern baptists      1189                           0.0362707\n",
      "gun reform             1159                           0.0353556\n",
      "sexual abuse           1126                           0.0343489\n",
      "new york               1064                           0.0324576\n",
      "mental health          1052                           0.0320915\n",
      "black people            914                           0.0278818\n"
     ]
    }
   ],
   "source": [
    "final2 = getNGram(allTweets, 2, stop_words_, 30)\n",
    "print(tabulate(final2, ['Ngram', 'Number', '% of the total without stopwords']))"
   ]
  },
  {
   "cell_type": "markdown",
   "metadata": {},
   "source": [
    "## Top 30 trigramas "
   ]
  },
  {
   "cell_type": "code",
   "execution_count": 10,
   "metadata": {},
   "outputs": [
    {
     "name": "stdout",
     "output_type": "stream",
     "text": [
      "Ngram                           Number    % of the total without stopwords\n",
      "----------------------------  --------  ----------------------------------\n",
      "fe high school                    1849                           0.0564042\n",
      "santa fe high                     1847                           0.0563432\n",
      "another school shooting           1182                           0.0360572\n",
      "common sense gun                   610                           0.0186082\n",
      "high school shooting               574                           0.01751\n",
      "goes church southern               541                           0.0165033\n",
      "southern baptists face             526                           0.0160458\n",
      "baptists face reckoning            521                           0.0158932\n",
      "face reckoning treatment           521                           0.0158932\n",
      "church southern baptists           514                           0.0156797\n",
      "reckoning treatment women          511                           0.0155882\n",
      "limited edition get                489                           0.0149171\n",
      "movement gives pass                485                           0.014795\n",
      "running california governor        482                           0.0147035\n",
      "valley animal center               482                           0.0147035\n",
      "palm valley animal                 482                           0.0147035\n",
      "animal center edinburg             480                           0.0146425\n",
      "democrats running california       479                           0.014612\n",
      "gives pass democrats               472                           0.0143985\n",
      "pass democrats running             472                           0.0143985\n",
      "simmons wanna pray                 448                           0.0136663\n",
      "texas school shooting              398                           0.0121411\n",
      "may 11 2018                        397                           0.0121106\n",
      "gun control laws                   396                           0.0120801\n",
      "edition sold stores                386                           0.011775\n",
      "limited edition sold               386                           0.011775\n",
      "santa fe texas                     379                           0.0115615\n",
      "month special extended             368                           0.0112259\n",
      "week may 11                        368                           0.0112259\n",
      "11 2018 6                          368                           0.0112259\n"
     ]
    }
   ],
   "source": [
    "final3 = getNGram(allTweets, 3, stop_words_, 30)\n",
    "print(tabulate(final3, ['Ngram', 'Number', '% of the total without stopwords']))"
   ]
  },
  {
   "cell_type": "markdown",
   "metadata": {},
   "source": [
    "## Top 40 Hashtags"
   ]
  },
  {
   "cell_type": "code",
   "execution_count": 11,
   "metadata": {},
   "outputs": [
    {
     "name": "stdout",
     "output_type": "stream",
     "text": [
      "40 rows affected.\n"
     ]
    },
    {
     "data": {
      "text/html": [
       "<table>\n",
       "    <tr>\n",
       "        <th>Hashtag</th>\n",
       "        <th>degree</th>\n",
       "    </tr>\n",
       "    <tr>\n",
       "        <td>metoo</td>\n",
       "        <td>245944</td>\n",
       "    </tr>\n",
       "    <tr>\n",
       "        <td>guncontrol</td>\n",
       "        <td>74867</td>\n",
       "    </tr>\n",
       "    <tr>\n",
       "        <td>guncontrolnow</td>\n",
       "        <td>64838</td>\n",
       "    </tr>\n",
       "    <tr>\n",
       "        <td>blacklivesmatter</td>\n",
       "        <td>17833</td>\n",
       "    </tr>\n",
       "    <tr>\n",
       "        <td>climatechange</td>\n",
       "        <td>14646</td>\n",
       "    </tr>\n",
       "    <tr>\n",
       "        <td>timesup</td>\n",
       "        <td>10886</td>\n",
       "    </tr>\n",
       "    <tr>\n",
       "        <td>santafehighschool</td>\n",
       "        <td>10351</td>\n",
       "    </tr>\n",
       "    <tr>\n",
       "        <td>santafe</td>\n",
       "        <td>10013</td>\n",
       "    </tr>\n",
       "    <tr>\n",
       "        <td>nra</td>\n",
       "        <td>8450</td>\n",
       "    </tr>\n",
       "    <tr>\n",
       "        <td>fbr</td>\n",
       "        <td>6952</td>\n",
       "    </tr>\n",
       "    <tr>\n",
       "        <td>marchforourlives</td>\n",
       "        <td>6778</td>\n",
       "    </tr>\n",
       "    <tr>\n",
       "        <td>theresistance</td>\n",
       "        <td>6589</td>\n",
       "    </tr>\n",
       "    <tr>\n",
       "        <td>trump</td>\n",
       "        <td>6061</td>\n",
       "    </tr>\n",
       "    <tr>\n",
       "        <td>neveragain</td>\n",
       "        <td>5925</td>\n",
       "    </tr>\n",
       "    <tr>\n",
       "        <td>resist</td>\n",
       "        <td>5561</td>\n",
       "    </tr>\n",
       "    <tr>\n",
       "        <td>gunreformnow</td>\n",
       "        <td>5486</td>\n",
       "    </tr>\n",
       "    <tr>\n",
       "        <td>texas</td>\n",
       "        <td>5343</td>\n",
       "    </tr>\n",
       "    <tr>\n",
       "        <td>maga</td>\n",
       "        <td>5313</td>\n",
       "    </tr>\n",
       "    <tr>\n",
       "        <td>enoughisenough</td>\n",
       "        <td>4918</td>\n",
       "    </tr>\n",
       "    <tr>\n",
       "        <td>resistance</td>\n",
       "        <td>4509</td>\n",
       "    </tr>\n",
       "    <tr>\n",
       "        <td>harveyweinstein</td>\n",
       "        <td>4383</td>\n",
       "    </tr>\n",
       "    <tr>\n",
       "        <td>impeachtrump</td>\n",
       "        <td>4089</td>\n",
       "    </tr>\n",
       "    <tr>\n",
       "        <td>bluewave2018</td>\n",
       "        <td>4007</td>\n",
       "    </tr>\n",
       "    <tr>\n",
       "        <td>gunsense</td>\n",
       "        <td>3778</td>\n",
       "    </tr>\n",
       "    <tr>\n",
       "        <td>news</td>\n",
       "        <td>3558</td>\n",
       "    </tr>\n",
       "    <tr>\n",
       "        <td>breakingnews</td>\n",
       "        <td>3518</td>\n",
       "    </tr>\n",
       "    <tr>\n",
       "        <td>amjoy</td>\n",
       "        <td>3316</td>\n",
       "    </tr>\n",
       "    <tr>\n",
       "        <td>music</td>\n",
       "        <td>3294</td>\n",
       "    </tr>\n",
       "    <tr>\n",
       "        <td>2a</td>\n",
       "        <td>3248</td>\n",
       "    </tr>\n",
       "    <tr>\n",
       "        <td>tbt</td>\n",
       "        <td>3146</td>\n",
       "    </tr>\n",
       "    <tr>\n",
       "        <td>morganfreeman</td>\n",
       "        <td>3134</td>\n",
       "    </tr>\n",
       "    <tr>\n",
       "        <td>weinstein</td>\n",
       "        <td>3117</td>\n",
       "    </tr>\n",
       "    <tr>\n",
       "        <td>미투</td>\n",
       "        <td>3093</td>\n",
       "    </tr>\n",
       "    <tr>\n",
       "        <td>ff</td>\n",
       "        <td>3025</td>\n",
       "    </tr>\n",
       "    <tr>\n",
       "        <td>np</td>\n",
       "        <td>3012</td>\n",
       "    </tr>\n",
       "    <tr>\n",
       "        <td>nowplaying</td>\n",
       "        <td>2993</td>\n",
       "    </tr>\n",
       "    <tr>\n",
       "        <td>am2dm</td>\n",
       "        <td>2981</td>\n",
       "    </tr>\n",
       "    <tr>\n",
       "        <td>fbf</td>\n",
       "        <td>2973</td>\n",
       "    </tr>\n",
       "    <tr>\n",
       "        <td>wcw</td>\n",
       "        <td>2973</td>\n",
       "    </tr>\n",
       "    <tr>\n",
       "        <td>climateaction</td>\n",
       "        <td>2879</td>\n",
       "    </tr>\n",
       "</table>"
      ],
      "text/plain": [
       "[['metoo', 245944],\n",
       " ['guncontrol', 74867],\n",
       " ['guncontrolnow', 64838],\n",
       " ['blacklivesmatter', 17833],\n",
       " ['climatechange', 14646],\n",
       " ['timesup', 10886],\n",
       " ['santafehighschool', 10351],\n",
       " ['santafe', 10013],\n",
       " ['nra', 8450],\n",
       " ['fbr', 6952],\n",
       " ['marchforourlives', 6778],\n",
       " ['theresistance', 6589],\n",
       " ['trump', 6061],\n",
       " ['neveragain', 5925],\n",
       " ['resist', 5561],\n",
       " ['gunreformnow', 5486],\n",
       " ['texas', 5343],\n",
       " ['maga', 5313],\n",
       " ['enoughisenough', 4918],\n",
       " ['resistance', 4509],\n",
       " ['harveyweinstein', 4383],\n",
       " ['impeachtrump', 4089],\n",
       " ['bluewave2018', 4007],\n",
       " ['gunsense', 3778],\n",
       " ['news', 3558],\n",
       " ['breakingnews', 3518],\n",
       " ['amjoy', 3316],\n",
       " ['music', 3294],\n",
       " ['2a', 3248],\n",
       " ['tbt', 3146],\n",
       " ['morganfreeman', 3134],\n",
       " ['weinstein', 3117],\n",
       " ['미투', 3093],\n",
       " ['ff', 3025],\n",
       " ['np', 3012],\n",
       " ['nowplaying', 2993],\n",
       " ['am2dm', 2981],\n",
       " ['fbf', 2973],\n",
       " ['wcw', 2973],\n",
       " ['climateaction', 2879]]"
      ]
     },
     "execution_count": 11,
     "metadata": {},
     "output_type": "execute_result"
    }
   ],
   "source": [
    "%cypher match (n:hashtag)-[r]-() return n.hashtag as Hashtag, count(r) as degree order by degree desc limit 40"
   ]
  }
 ],
 "metadata": {
  "kernelspec": {
   "display_name": "Python 3",
   "language": "python",
   "name": "python3"
  },
  "language_info": {
   "codemirror_mode": {
    "name": "ipython",
    "version": 3
   },
   "file_extension": ".py",
   "mimetype": "text/x-python",
   "name": "python",
   "nbconvert_exporter": "python",
   "pygments_lexer": "ipython3",
   "version": "3.5.2"
  }
 },
 "nbformat": 4,
 "nbformat_minor": 2
}
