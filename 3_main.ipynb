{
 "cells": [
  {
   "cell_type": "code",
   "execution_count": 3,
   "metadata": {
    "scrolled": false
   },
   "outputs": [],
   "source": [
    "%reload_ext cypher\n",
    "import matplotlib\n",
    "import pandas as pd\n",
    "import matplotlib.pyplot as plt\n",
    "%matplotlib inline"
   ]
  },
  {
   "cell_type": "markdown",
   "metadata": {},
   "source": [
    "## Number of Tweets "
   ]
  },
  {
   "cell_type": "code",
   "execution_count": 4,
   "metadata": {
    "scrolled": false
   },
   "outputs": [
    {
     "name": "stdout",
     "output_type": "stream",
     "text": [
      "1 rows affected.\n"
     ]
    },
    {
     "data": {
      "text/html": [
       "<table>\n",
       "    <tr>\n",
       "        <th>Tweets</th>\n",
       "    </tr>\n",
       "    <tr>\n",
       "        <td>1226015</td>\n",
       "    </tr>\n",
       "</table>"
      ],
      "text/plain": [
       "[[1226015]]"
      ]
     },
     "execution_count": 4,
     "metadata": {},
     "output_type": "execute_result"
    }
   ],
   "source": [
    "%cypher MATCH (n:tweet) RETURN count(n) as Tweets"
   ]
  },
  {
   "cell_type": "markdown",
   "metadata": {},
   "source": [
    "## Number of users"
   ]
  },
  {
   "cell_type": "code",
   "execution_count": 5,
   "metadata": {
    "scrolled": false
   },
   "outputs": [
    {
     "name": "stdout",
     "output_type": "stream",
     "text": [
      "1 rows affected.\n"
     ]
    },
    {
     "data": {
      "text/html": [
       "<table>\n",
       "    <tr>\n",
       "        <th>Users</th>\n",
       "    </tr>\n",
       "    <tr>\n",
       "        <td>660311</td>\n",
       "    </tr>\n",
       "</table>"
      ],
      "text/plain": [
       "[[660311]]"
      ]
     },
     "execution_count": 5,
     "metadata": {},
     "output_type": "execute_result"
    }
   ],
   "source": [
    "%cypher MATCH (n:user) RETURN count(n) as Users"
   ]
  },
  {
   "cell_type": "markdown",
   "metadata": {},
   "source": [
    "## Number of urls "
   ]
  },
  {
   "cell_type": "code",
   "execution_count": 6,
   "metadata": {
    "scrolled": false
   },
   "outputs": [
    {
     "name": "stdout",
     "output_type": "stream",
     "text": [
      "1 rows affected.\n"
     ]
    },
    {
     "data": {
      "text/html": [
       "<table>\n",
       "    <tr>\n",
       "        <th>Urls</th>\n",
       "    </tr>\n",
       "    <tr>\n",
       "        <td>214113</td>\n",
       "    </tr>\n",
       "</table>"
      ],
      "text/plain": [
       "[[214113]]"
      ]
     },
     "execution_count": 6,
     "metadata": {},
     "output_type": "execute_result"
    }
   ],
   "source": [
    "%cypher MATCH (n:url) RETURN count(n) as Urls"
   ]
  },
  {
   "cell_type": "markdown",
   "metadata": {},
   "source": [
    "## Number of tags"
   ]
  },
  {
   "cell_type": "code",
   "execution_count": 7,
   "metadata": {
    "scrolled": false
   },
   "outputs": [
    {
     "name": "stdout",
     "output_type": "stream",
     "text": [
      "1 rows affected.\n"
     ]
    },
    {
     "data": {
      "text/html": [
       "<table>\n",
       "    <tr>\n",
       "        <th>Tags</th>\n",
       "    </tr>\n",
       "    <tr>\n",
       "        <td>37235</td>\n",
       "    </tr>\n",
       "</table>"
      ],
      "text/plain": [
       "[[37235]]"
      ]
     },
     "execution_count": 7,
     "metadata": {},
     "output_type": "execute_result"
    }
   ],
   "source": [
    "%cypher MATCH (n:hashtag) RETURN count(n) as Tags"
   ]
  },
  {
   "cell_type": "markdown",
   "metadata": {
    "collapsed": true
   },
   "source": [
    "## Top 10 tweets"
   ]
  },
  {
   "cell_type": "code",
   "execution_count": 8,
   "metadata": {
    "scrolled": false
   },
   "outputs": [
    {
     "name": "stdout",
     "output_type": "stream",
     "text": [
      "11 rows affected.\n"
     ]
    },
    {
     "data": {
      "text/html": [
       "<table>\n",
       "    <tr>\n",
       "        <th>TID</th>\n",
       "        <th>Tweets</th>\n",
       "        <th>User</th>\n",
       "        <th>Name</th>\n",
       "        <th>Date</th>\n",
       "        <th>Degree</th>\n",
       "        <th>Ecosystem</th>\n",
       "    </tr>\n",
       "    <tr>\n",
       "        <td>997110277547220993</td>\n",
       "        <td>•Ohio—the State where a black child Tamir Rice was executed for holding a toy gun—you brought a weapon of death to school &amp;amp; got Nat’l TV spots •That disparity is racism against Tamir &amp;amp; white privilege for you •Please learn the difference #GunControlNow  https://t.co/VBgaKmLvAr</td>\n",
       "        <td>MuslimIQ</td>\n",
       "        <td>Qasim Rashid, Esq.</td>\n",
       "        <td>Thu May 17 13:43:10 +0000 2018</td>\n",
       "        <td>114359</td>\n",
       "        <td>BLM</td>\n",
       "    </tr>\n",
       "    <tr>\n",
       "        <td>997110277547220993</td>\n",
       "        <td>•Ohio—the State where a black child Tamir Rice was executed for holding a toy gun—you brought a weapon of death to school &amp;amp; got Nat’l TV spots •That disparity is racism against Tamir &amp;amp; white privilege for you •Please learn the difference #GunControlNow  https://t.co/VBgaKmLvAr</td>\n",
       "        <td>MuslimIQ</td>\n",
       "        <td>Qasim Rashid, Esq.</td>\n",
       "        <td>Thu May 17 13:43:10 +0000 2018</td>\n",
       "        <td>114359</td>\n",
       "        <td>BLM</td>\n",
       "    </tr>\n",
       "    <tr>\n",
       "        <td>997112115789025280</td>\n",
       "        <td>Black people continue to be killed because the police THINK they’re armed. She brings a rifle to campus and gets a tv platform. Yet she thinks people using the term “white privilege” is racist. My head is spinning https://t.co/uzBUeMFos7</td>\n",
       "        <td>OdehEveryday</td>\n",
       "        <td>Abe</td>\n",
       "        <td>Thu May 17 13:50:28 +0000 2018</td>\n",
       "        <td>97686</td>\n",
       "        <td>GC</td>\n",
       "    </tr>\n",
       "    <tr>\n",
       "        <td>1006278364708077569</td>\n",
       "        <td>The entire premise of #metoo is that women are stupid, weak &amp;amp; inconsequential.  Too stupid to know what men might want if you come to their hotel room late at night.  Too weak to turn around and tell someone not to touch your ass again. Too inconsequential to realize this.</td>\n",
       "        <td>RealCandaceO</td>\n",
       "        <td>Candace Owens</td>\n",
       "        <td>Mon Jun 11 20:53:52 +0000 2018</td>\n",
       "        <td>9361</td>\n",
       "        <td>MT</td>\n",
       "    </tr>\n",
       "    <tr>\n",
       "        <td>997552686278041602</td>\n",
       "        <td>Florida high school student Emma Gonzalez has shown more moral courage than the GOP and the NRA put together.  RETWEET if stand with Emma as she demands gun reform from Congress and the President after the the Santa Fe, Texas shooting! #GunControlNow https://t.co/7vs4ByBqnE</td>\n",
       "        <td>DisavowTrump20</td>\n",
       "        <td>Protect Robert Mueller ✊</td>\n",
       "        <td>Fri May 18 19:01:08 +0000 2018</td>\n",
       "        <td>8579</td>\n",
       "        <td>GC</td>\n",
       "    </tr>\n",
       "    <tr>\n",
       "        <td>1001873764664139776</td>\n",
       "        <td>Janelle Monae is my baby muva!! ude02♥️udc9c https://t.co/TaN27uVinI https://t.co/H0XvrMGPTo</td>\n",
       "        <td>The_Monae</td>\n",
       "        <td>Janelle&#x27;s Hair</td>\n",
       "        <td>Wed May 30 17:11:34 +0000 2018</td>\n",
       "        <td>7350</td>\n",
       "        <td>MT</td>\n",
       "    </tr>\n",
       "    <tr>\n",
       "        <td>997599793915494401</td>\n",
       "        <td>I’m devasted to learn that among the 10 innocent children murdered today was Sabika Sheikh—a Pakistani exchange student.  She came here to learn—leaving her family thousands of miles behind—and we failed her. Inna lillahai wa inna illahi rajaeoonude13 #SantaFeHigh  #GunControlNow https://t.co/jPe1hU4MQ5</td>\n",
       "        <td>MuslimIQ</td>\n",
       "        <td>Qasim Rashid, Esq.</td>\n",
       "        <td>Fri May 18 22:08:20 +0000 2018</td>\n",
       "        <td>7120</td>\n",
       "        <td>GC</td>\n",
       "    </tr>\n",
       "    <tr>\n",
       "        <td>997483264154701824</td>\n",
       "        <td>All of these countries have mental illness &amp;amp; video games. They also have #GunControl   No. of mass shootings in 2018 (as of 15 May): via @ChrisLutolf  udde6uddfa 0 uddf3uddff 0 udde9uddea 0 uddecudde7 0 udde7uddea 0 udde6uddf9 0 udde9uddf0 0 uddf3uddf1 0 uddf8uddea 0 uddebuddee 0 uddeeuddea 0 udde8udde6 0 uddf1uddfa 0 udde8udded 0 uddfauddf8 99*  Santa Fe High School</td>\n",
       "        <td>pinklionheart</td>\n",
       "        <td>#OrlandoStrong\\udd6f️❤️\\udff3️‍\\udf08</td>\n",
       "        <td>Fri May 18 14:25:17 +0000 2018</td>\n",
       "        <td>6618</td>\n",
       "        <td>GC</td>\n",
       "    </tr>\n",
       "    <tr>\n",
       "        <td>1002721656245137409</td>\n",
       "        <td>HAPPY PRIDE MONTH udf08udf37udf3audd16 https://t.co/4z3oQeNgis</td>\n",
       "        <td>JanelleMonae</td>\n",
       "        <td>Janelle Monáe, Cindi</td>\n",
       "        <td>Sat Jun 02 01:20:47 +0000 2018</td>\n",
       "        <td>6268</td>\n",
       "        <td>MT</td>\n",
       "    </tr>\n",
       "    <tr>\n",
       "        <td>1001997598071377922</td>\n",
       "        <td>Breaking!   ILLINOIS JUST RATIFIED THE EQUAL RIGHTS AMENDMENT.    We now have 37 states that have ratified the ERA. 1 more to go.  #ERANOW #MeToo</td>\n",
       "        <td>Alyssa_Milano</td>\n",
       "        <td>Alyssa Milano</td>\n",
       "        <td>Thu May 31 01:23:38 +0000 2018</td>\n",
       "        <td>6214</td>\n",
       "        <td>MT</td>\n",
       "    </tr>\n",
       "    <tr>\n",
       "        <td>999084744359854080</td>\n",
       "        <td>日大の案件、MeToo的な流れになっていくんじゃないかと思ってはいる。たぶんその前にもやっていただろうし、もしかすると他のチームや競技でも似たような案件はあるだろう。当然他大学のスポーツ以外のことまで含めてね。いい機会なんじゃないですかね。</td>\n",
       "        <td>nasastar</td>\n",
       "        <td>nasastar</td>\n",
       "        <td>Wed May 23 00:28:59 +0000 2018</td>\n",
       "        <td>5779</td>\n",
       "        <td>MT</td>\n",
       "    </tr>\n",
       "</table>"
      ],
      "text/plain": [
       "[['997110277547220993',\n",
       "  '•Ohio—the State where a black child Tamir Rice was executed for holding a toy gun—you brought a weapon of death to school &amp; got Nat’l TV spots •That disparity is racism against Tamir &amp; white privilege for you •Please learn the difference #GunControlNow  https://t.co/VBgaKmLvAr',\n",
       "  'MuslimIQ',\n",
       "  'Qasim Rashid, Esq.',\n",
       "  'Thu May 17 13:43:10 +0000 2018',\n",
       "  114359,\n",
       "  'BLM'],\n",
       " ['997110277547220993',\n",
       "  '•Ohio—the State where a black child Tamir Rice was executed for holding a toy gun—you brought a weapon of death to school &amp; got Nat’l TV spots •That disparity is racism against Tamir &amp; white privilege for you •Please learn the difference #GunControlNow  https://t.co/VBgaKmLvAr',\n",
       "  'MuslimIQ',\n",
       "  'Qasim Rashid, Esq.',\n",
       "  'Thu May 17 13:43:10 +0000 2018',\n",
       "  114359,\n",
       "  'BLM'],\n",
       " ['997112115789025280',\n",
       "  'Black people continue to be killed because the police THINK they’re armed. She brings a rifle to campus and gets a tv platform. Yet she thinks people using the term “white privilege” is racist. My head is spinning https://t.co/uzBUeMFos7',\n",
       "  'OdehEveryday',\n",
       "  'Abe',\n",
       "  'Thu May 17 13:50:28 +0000 2018',\n",
       "  97686,\n",
       "  'GC'],\n",
       " ['1006278364708077569',\n",
       "  'The entire premise of #metoo is that women are stupid, weak &amp; inconsequential.  Too stupid to know what men might want if you come to their hotel room late at night.  Too weak to turn around and tell someone not to touch your ass again. Too inconsequential to realize this.',\n",
       "  'RealCandaceO',\n",
       "  'Candace Owens',\n",
       "  'Mon Jun 11 20:53:52 +0000 2018',\n",
       "  9361,\n",
       "  'MT'],\n",
       " ['997552686278041602',\n",
       "  'Florida high school student Emma Gonzalez has shown more moral courage than the GOP and the NRA put together.  RETWEET if stand with Emma as she demands gun reform from Congress and the President after the the Santa Fe, Texas shooting! #GunControlNow https://t.co/7vs4ByBqnE',\n",
       "  'DisavowTrump20',\n",
       "  'Protect Robert Mueller ✊',\n",
       "  'Fri May 18 19:01:08 +0000 2018',\n",
       "  8579,\n",
       "  'GC'],\n",
       " ['1001873764664139776',\n",
       "  'Janelle Monae is my baby muva!! ude02♥️udc9c https://t.co/TaN27uVinI https://t.co/H0XvrMGPTo',\n",
       "  'The_Monae',\n",
       "  \"Janelle's Hair\",\n",
       "  'Wed May 30 17:11:34 +0000 2018',\n",
       "  7350,\n",
       "  'MT'],\n",
       " ['997599793915494401',\n",
       "  'I’m devasted to learn that among the 10 innocent children murdered today was Sabika Sheikh—a Pakistani exchange student.  She came here to learn—leaving her family thousands of miles behind—and we failed her. Inna lillahai wa inna illahi rajaeoonude13 #SantaFeHigh  #GunControlNow https://t.co/jPe1hU4MQ5',\n",
       "  'MuslimIQ',\n",
       "  'Qasim Rashid, Esq.',\n",
       "  'Fri May 18 22:08:20 +0000 2018',\n",
       "  7120,\n",
       "  'GC'],\n",
       " ['997483264154701824',\n",
       "  'All of these countries have mental illness &amp; video games. They also have #GunControl   No. of mass shootings in 2018 (as of 15 May): via @ChrisLutolf  udde6uddfa 0 uddf3uddff 0 udde9uddea 0 uddecudde7 0 udde7uddea 0 udde6uddf9 0 udde9uddf0 0 uddf3uddf1 0 uddf8uddea 0 uddebuddee 0 uddeeuddea 0 udde8udde6 0 uddf1uddfa 0 udde8udded 0 uddfauddf8 99*  Santa Fe High School',\n",
       "  'pinklionheart',\n",
       "  '#OrlandoStrong\\\\udd6f️❤️\\\\udff3️\\u200d\\\\udf08',\n",
       "  'Fri May 18 14:25:17 +0000 2018',\n",
       "  6618,\n",
       "  'GC'],\n",
       " ['1002721656245137409',\n",
       "  'HAPPY PRIDE MONTH udf08udf37udf3audd16 https://t.co/4z3oQeNgis',\n",
       "  'JanelleMonae',\n",
       "  'Janelle Monáe, Cindi',\n",
       "  'Sat Jun 02 01:20:47 +0000 2018',\n",
       "  6268,\n",
       "  'MT'],\n",
       " ['1001997598071377922',\n",
       "  'Breaking!   ILLINOIS JUST RATIFIED THE EQUAL RIGHTS AMENDMENT.    We now have 37 states that have ratified the ERA. 1 more to go.  #ERANOW #MeToo',\n",
       "  'Alyssa_Milano',\n",
       "  'Alyssa Milano',\n",
       "  'Thu May 31 01:23:38 +0000 2018',\n",
       "  6214,\n",
       "  'MT'],\n",
       " ['999084744359854080',\n",
       "  '日大の案件、MeToo的な流れになっていくんじゃないかと思ってはいる。たぶんその前にもやっていただろうし、もしかすると他のチームや競技でも似たような案件はあるだろう。当然他大学のスポーツ以外のことまで含めてね。いい機会なんじゃないですかね。',\n",
       "  'nasastar',\n",
       "  'nasastar',\n",
       "  'Wed May 23 00:28:59 +0000 2018',\n",
       "  5779,\n",
       "  'MT']]"
      ]
     },
     "execution_count": 8,
     "metadata": {},
     "output_type": "execute_result"
    }
   ],
   "source": [
    "%%cypher\n",
    "match  (n:tweet)<-[r :RETWEETS|:QUOTED_TO|:REPLIES_TO]-()\n",
    "with n, count(r) as deg order by deg desc limit 10\n",
    "match (n)<-[:TWEETS]-(u:user)\n",
    "return n.tid as TID, substring(n.text, 0, 100000) as Tweets, \n",
    "       u.screen_name as User, u.name as Name, n.created_at as Date, deg as Degree, n.eco as Ecosystem"
   ]
  },
  {
   "cell_type": "markdown",
   "metadata": {},
   "source": [
    "## Top 5 tweets de BlackLivesMatter"
   ]
  },
  {
   "cell_type": "code",
   "execution_count": 9,
   "metadata": {},
   "outputs": [
    {
     "name": "stdout",
     "output_type": "stream",
     "text": [
      "5 rows affected.\n"
     ]
    },
    {
     "data": {
      "text/html": [
       "<table>\n",
       "    <tr>\n",
       "        <th>TID</th>\n",
       "        <th>Tweets</th>\n",
       "        <th>User</th>\n",
       "        <th>Name</th>\n",
       "        <th>Date</th>\n",
       "        <th>Degree</th>\n",
       "    </tr>\n",
       "    <tr>\n",
       "        <td>997110277547220993</td>\n",
       "        <td>•Ohio—the State where a black child Tamir Rice was executed for holding a toy gun—you brought a weapon of death to school &amp;amp; got Nat’l TV spots •That disparity is racism against Tamir &amp;amp; white privilege for you •Please learn the difference #GunControlNow  https://t.co/VBgaKmLvAr</td>\n",
       "        <td>MuslimIQ</td>\n",
       "        <td>Qasim Rashid, Esq.</td>\n",
       "        <td>Thu May 17 13:43:10 +0000 2018</td>\n",
       "        <td>114359</td>\n",
       "    </tr>\n",
       "    <tr>\n",
       "        <td>997110277547220993</td>\n",
       "        <td>•Ohio—the State where a black child Tamir Rice was executed for holding a toy gun—you brought a weapon of death to school &amp;amp; got Nat’l TV spots •That disparity is racism against Tamir &amp;amp; white privilege for you •Please learn the difference #GunControlNow  https://t.co/VBgaKmLvAr</td>\n",
       "        <td>MuslimIQ</td>\n",
       "        <td>Qasim Rashid, Esq.</td>\n",
       "        <td>Thu May 17 13:43:10 +0000 2018</td>\n",
       "        <td>114359</td>\n",
       "    </tr>\n",
       "    <tr>\n",
       "        <td>1005327667057422337</td>\n",
       "        <td>(ICYMI) &quot;Larry Elder: Four (Black) Cops Killed in Seven Days --Where&#x27;s the Outrage?&quot;  https://t.co/Mq7xAJOye2  #BlackLivesMatter</td>\n",
       "        <td>larryelder</td>\n",
       "        <td>Larry Elder</td>\n",
       "        <td>Sat Jun 09 05:56:08 +0000 2018</td>\n",
       "        <td>2542</td>\n",
       "    </tr>\n",
       "    <tr>\n",
       "        <td>994652039916466176</td>\n",
       "        <td>Witnessing a black student taking a nap in their own dorm building is not a legitimate reason to call the police.  It’s time for America to reckon with the dangerous assumption that black people don’t “belong.” #BlackLivesMatter https://t.co/vaV90a0Gj9</td>\n",
       "        <td>ACLU</td>\n",
       "        <td>ACLU</td>\n",
       "        <td>Thu May 10 18:55:00 +0000 2018</td>\n",
       "        <td>1112</td>\n",
       "    </tr>\n",
       "    <tr>\n",
       "        <td>994344303672614912</td>\n",
       "        <td>#FBR party  LIKE❤ RT♻️ FOLLOW ALL WHO RTudf0a  #TheResistance #Resistance #ImpeachTrump #NotMyPresident #Resist #Trump #DemForce #BlueWave #Iran #BlueTsunami #FBR #LGBT #Equality #StrongerTogether #FBResistance #BlackLivesMatter #WomensRights #MuellerInvestigation #TrumpRussia https://t.co/VIhWKOI9v1</td>\n",
       "        <td>Dax_x98</td>\n",
       "        <td>DΔX™</td>\n",
       "        <td>Wed May 09 22:32:10 +0000 2018</td>\n",
       "        <td>966</td>\n",
       "    </tr>\n",
       "</table>"
      ],
      "text/plain": [
       "[['997110277547220993',\n",
       "  '•Ohio—the State where a black child Tamir Rice was executed for holding a toy gun—you brought a weapon of death to school &amp; got Nat’l TV spots •That disparity is racism against Tamir &amp; white privilege for you •Please learn the difference #GunControlNow  https://t.co/VBgaKmLvAr',\n",
       "  'MuslimIQ',\n",
       "  'Qasim Rashid, Esq.',\n",
       "  'Thu May 17 13:43:10 +0000 2018',\n",
       "  114359],\n",
       " ['997110277547220993',\n",
       "  '•Ohio—the State where a black child Tamir Rice was executed for holding a toy gun—you brought a weapon of death to school &amp; got Nat’l TV spots •That disparity is racism against Tamir &amp; white privilege for you •Please learn the difference #GunControlNow  https://t.co/VBgaKmLvAr',\n",
       "  'MuslimIQ',\n",
       "  'Qasim Rashid, Esq.',\n",
       "  'Thu May 17 13:43:10 +0000 2018',\n",
       "  114359],\n",
       " ['1005327667057422337',\n",
       "  '(ICYMI) \"Larry Elder: Four (Black) Cops Killed in Seven Days --Where\\'s the Outrage?\"  https://t.co/Mq7xAJOye2  #BlackLivesMatter',\n",
       "  'larryelder',\n",
       "  'Larry Elder',\n",
       "  'Sat Jun 09 05:56:08 +0000 2018',\n",
       "  2542],\n",
       " ['994652039916466176',\n",
       "  'Witnessing a black student taking a nap in their own dorm building is not a legitimate reason to call the police.  It’s time for America to reckon with the dangerous assumption that black people don’t “belong.” #BlackLivesMatter https://t.co/vaV90a0Gj9',\n",
       "  'ACLU',\n",
       "  'ACLU',\n",
       "  'Thu May 10 18:55:00 +0000 2018',\n",
       "  1112],\n",
       " ['994344303672614912',\n",
       "  '#FBR party  LIKE❤ RT♻️ FOLLOW ALL WHO RTudf0a  #TheResistance #Resistance #ImpeachTrump #NotMyPresident #Resist #Trump #DemForce #BlueWave #Iran #BlueTsunami #FBR #LGBT #Equality #StrongerTogether #FBResistance #BlackLivesMatter #WomensRights #MuellerInvestigation #TrumpRussia https://t.co/VIhWKOI9v1',\n",
       "  'Dax_x98',\n",
       "  'DΔX™',\n",
       "  'Wed May 09 22:32:10 +0000 2018',\n",
       "  966]]"
      ]
     },
     "execution_count": 9,
     "metadata": {},
     "output_type": "execute_result"
    }
   ],
   "source": [
    "%%cypher\n",
    "match  (n:tweet)<-[r :RETWEETS|:QUOTED_TO|:REPLIES_TO]-() where n.eco='BLM' \n",
    "with n, count(r) as deg order by deg desc \n",
    "match (n)<-[:TWEETS]-(u:user)\n",
    "return n.tid as TID, substring(n.text, 0, 100000) as Tweets, \n",
    "       u.screen_name as User, u.name as Name, n.created_at as Date, deg as Degree limit 5"
   ]
  },
  {
   "cell_type": "markdown",
   "metadata": {},
   "source": [
    "## Top tweets de MeToo"
   ]
  },
  {
   "cell_type": "code",
   "execution_count": 10,
   "metadata": {},
   "outputs": [
    {
     "name": "stdout",
     "output_type": "stream",
     "text": [
      "5 rows affected.\n"
     ]
    },
    {
     "data": {
      "text/html": [
       "<table>\n",
       "    <tr>\n",
       "        <th>TID</th>\n",
       "        <th>Tweets</th>\n",
       "        <th>User</th>\n",
       "        <th>Name</th>\n",
       "        <th>Date</th>\n",
       "        <th>Degree</th>\n",
       "    </tr>\n",
       "    <tr>\n",
       "        <td>1006278364708077569</td>\n",
       "        <td>The entire premise of #metoo is that women are stupid, weak &amp;amp; inconsequential.  Too stupid to know what men might want if you come to their hotel room late at night.  Too weak to turn around and tell someone not to touch your ass again. Too inconsequential to realize this.</td>\n",
       "        <td>RealCandaceO</td>\n",
       "        <td>Candace Owens</td>\n",
       "        <td>Mon Jun 11 20:53:52 +0000 2018</td>\n",
       "        <td>9361</td>\n",
       "    </tr>\n",
       "    <tr>\n",
       "        <td>1001873764664139776</td>\n",
       "        <td>Janelle Monae is my baby muva!! ude02♥️udc9c https://t.co/TaN27uVinI https://t.co/H0XvrMGPTo</td>\n",
       "        <td>The_Monae</td>\n",
       "        <td>Janelle&#x27;s Hair</td>\n",
       "        <td>Wed May 30 17:11:34 +0000 2018</td>\n",
       "        <td>7350</td>\n",
       "    </tr>\n",
       "    <tr>\n",
       "        <td>1002721656245137409</td>\n",
       "        <td>HAPPY PRIDE MONTH udf08udf37udf3audd16 https://t.co/4z3oQeNgis</td>\n",
       "        <td>JanelleMonae</td>\n",
       "        <td>Janelle Monáe, Cindi</td>\n",
       "        <td>Sat Jun 02 01:20:47 +0000 2018</td>\n",
       "        <td>6268</td>\n",
       "    </tr>\n",
       "    <tr>\n",
       "        <td>1001997598071377922</td>\n",
       "        <td>Breaking!   ILLINOIS JUST RATIFIED THE EQUAL RIGHTS AMENDMENT.    We now have 37 states that have ratified the ERA. 1 more to go.  #ERANOW #MeToo</td>\n",
       "        <td>Alyssa_Milano</td>\n",
       "        <td>Alyssa Milano</td>\n",
       "        <td>Thu May 31 01:23:38 +0000 2018</td>\n",
       "        <td>6214</td>\n",
       "    </tr>\n",
       "    <tr>\n",
       "        <td>999084744359854080</td>\n",
       "        <td>日大の案件、MeToo的な流れになっていくんじゃないかと思ってはいる。たぶんその前にもやっていただろうし、もしかすると他のチームや競技でも似たような案件はあるだろう。当然他大学のスポーツ以外のことまで含めてね。いい機会なんじゃないですかね。</td>\n",
       "        <td>nasastar</td>\n",
       "        <td>nasastar</td>\n",
       "        <td>Wed May 23 00:28:59 +0000 2018</td>\n",
       "        <td>5779</td>\n",
       "    </tr>\n",
       "</table>"
      ],
      "text/plain": [
       "[['1006278364708077569',\n",
       "  'The entire premise of #metoo is that women are stupid, weak &amp; inconsequential.  Too stupid to know what men might want if you come to their hotel room late at night.  Too weak to turn around and tell someone not to touch your ass again. Too inconsequential to realize this.',\n",
       "  'RealCandaceO',\n",
       "  'Candace Owens',\n",
       "  'Mon Jun 11 20:53:52 +0000 2018',\n",
       "  9361],\n",
       " ['1001873764664139776',\n",
       "  'Janelle Monae is my baby muva!! ude02♥️udc9c https://t.co/TaN27uVinI https://t.co/H0XvrMGPTo',\n",
       "  'The_Monae',\n",
       "  \"Janelle's Hair\",\n",
       "  'Wed May 30 17:11:34 +0000 2018',\n",
       "  7350],\n",
       " ['1002721656245137409',\n",
       "  'HAPPY PRIDE MONTH udf08udf37udf3audd16 https://t.co/4z3oQeNgis',\n",
       "  'JanelleMonae',\n",
       "  'Janelle Monáe, Cindi',\n",
       "  'Sat Jun 02 01:20:47 +0000 2018',\n",
       "  6268],\n",
       " ['1001997598071377922',\n",
       "  'Breaking!   ILLINOIS JUST RATIFIED THE EQUAL RIGHTS AMENDMENT.    We now have 37 states that have ratified the ERA. 1 more to go.  #ERANOW #MeToo',\n",
       "  'Alyssa_Milano',\n",
       "  'Alyssa Milano',\n",
       "  'Thu May 31 01:23:38 +0000 2018',\n",
       "  6214],\n",
       " ['999084744359854080',\n",
       "  '日大の案件、MeToo的な流れになっていくんじゃないかと思ってはいる。たぶんその前にもやっていただろうし、もしかすると他のチームや競技でも似たような案件はあるだろう。当然他大学のスポーツ以外のことまで含めてね。いい機会なんじゃないですかね。',\n",
       "  'nasastar',\n",
       "  'nasastar',\n",
       "  'Wed May 23 00:28:59 +0000 2018',\n",
       "  5779]]"
      ]
     },
     "execution_count": 10,
     "metadata": {},
     "output_type": "execute_result"
    }
   ],
   "source": [
    "%%cypher\n",
    "match  (n:tweet)<-[r :RETWEETS|:QUOTED_TO|:REPLIES_TO]-()  where n.eco='MT' \n",
    "with n, count(r) as deg order by deg desc\n",
    "match (n)<-[:TWEETS]-(u:user) \n",
    "return n.tid as TID, substring(n.text, 0, 100000) as Tweets, \n",
    "       u.screen_name as User, u.name as Name, n.created_at as Date, deg as Degree limit 5"
   ]
  },
  {
   "cell_type": "markdown",
   "metadata": {},
   "source": [
    "# Top tweets de Climate Change"
   ]
  },
  {
   "cell_type": "code",
   "execution_count": 11,
   "metadata": {},
   "outputs": [
    {
     "name": "stdout",
     "output_type": "stream",
     "text": [
      "5 rows affected.\n"
     ]
    },
    {
     "data": {
      "text/html": [
       "<table>\n",
       "    <tr>\n",
       "        <th>TID</th>\n",
       "        <th>Tweets</th>\n",
       "        <th>User</th>\n",
       "        <th>Name</th>\n",
       "        <th>Date</th>\n",
       "        <th>Degree</th>\n",
       "    </tr>\n",
       "    <tr>\n",
       "        <td>994194495074947072</td>\n",
       "        <td>The artificial glacier that is providing fresh water to a village located in the Himalayas.   A potential game changing innovation that could combat the effects of climate change.  #tech #innovation #climatechange  https://t.co/iZwxppNwxY</td>\n",
       "        <td>PrecisionHomes_</td>\n",
       "        <td>Precision Homes</td>\n",
       "        <td>Wed May 09 12:36:53 +0000 2018</td>\n",
       "        <td>577</td>\n",
       "    </tr>\n",
       "    <tr>\n",
       "        <td>992438365336276993</td>\n",
       "        <td>CLIMATECHANGE GLOBALCHALLENGE https://t.co/h9tRfYHm08</td>\n",
       "        <td>SchneiderDallas</td>\n",
       "        <td>Dallas D.Schneider</td>\n",
       "        <td>Fri May 04 16:18:39 +0000 2018</td>\n",
       "        <td>454</td>\n",
       "    </tr>\n",
       "    <tr>\n",
       "        <td>994503706220683267</td>\n",
       "        <td>Thread of the day: Techno-economically, #Nuclear could pretty much stop #climatechange. We need to stop lamenting how hard it is to build because it&#x27;s politically unpopular (circular argument) and instead start making it more popular. Inherently it&#x27;s an awesome tech. Here&#x27;s why:</td>\n",
       "        <td>Kaikenhuippu</td>\n",
       "        <td>Rauli Partanen</td>\n",
       "        <td>Thu May 10 09:05:35 +0000 2018</td>\n",
       "        <td>350</td>\n",
       "    </tr>\n",
       "    <tr>\n",
       "        <td>994744400264785920</td>\n",
       "        <td>“We don’t have unlimited time,”  “Do we or don’t we care about our grandchildren? We’ve been stealing their future.”  #ActOnClimate #ClimateChange #KeepItInTheGround  https://t.co/bsv7hW6s9g</td>\n",
       "        <td>PaulEDawson</td>\n",
       "        <td>Paul Dawson</td>\n",
       "        <td>Fri May 11 01:02:01 +0000 2018</td>\n",
       "        <td>333</td>\n",
       "    </tr>\n",
       "    <tr>\n",
       "        <td>962044874898878466</td>\n",
       "        <td>SET is a new #cryptocurrency #token whose underlying value is derived by addressing today&#x27;s environmental pollution concerns, #climatechange effects &amp;amp; health &amp;amp; fitness levels of the global populace. Read the whitepaper to know more https://t.co/fuysAmsJFL</td>\n",
       "        <td>settoken</td>\n",
       "        <td>SET (Save Environment Token)</td>\n",
       "        <td>Fri Feb 09 19:25:46 +0000 2018</td>\n",
       "        <td>298</td>\n",
       "    </tr>\n",
       "</table>"
      ],
      "text/plain": [
       "[['994194495074947072',\n",
       "  'The artificial glacier that is providing fresh water to a village located in the Himalayas.   A potential game changing innovation that could combat the effects of climate change.  #tech #innovation #climatechange  https://t.co/iZwxppNwxY',\n",
       "  'PrecisionHomes_',\n",
       "  'Precision Homes',\n",
       "  'Wed May 09 12:36:53 +0000 2018',\n",
       "  577],\n",
       " ['992438365336276993',\n",
       "  'CLIMATECHANGE GLOBALCHALLENGE https://t.co/h9tRfYHm08',\n",
       "  'SchneiderDallas',\n",
       "  'Dallas D.Schneider',\n",
       "  'Fri May 04 16:18:39 +0000 2018',\n",
       "  454],\n",
       " ['994503706220683267',\n",
       "  \"Thread of the day: Techno-economically, #Nuclear could pretty much stop #climatechange. We need to stop lamenting how hard it is to build because it's politically unpopular (circular argument) and instead start making it more popular. Inherently it's an awesome tech. Here's why:\",\n",
       "  'Kaikenhuippu',\n",
       "  'Rauli Partanen',\n",
       "  'Thu May 10 09:05:35 +0000 2018',\n",
       "  350],\n",
       " ['994744400264785920',\n",
       "  '“We don’t have unlimited time,”  “Do we or don’t we care about our grandchildren? We’ve been stealing their future.”  #ActOnClimate #ClimateChange #KeepItInTheGround  https://t.co/bsv7hW6s9g',\n",
       "  'PaulEDawson',\n",
       "  'Paul Dawson',\n",
       "  'Fri May 11 01:02:01 +0000 2018',\n",
       "  333],\n",
       " ['962044874898878466',\n",
       "  \"SET is a new #cryptocurrency #token whose underlying value is derived by addressing today's environmental pollution concerns, #climatechange effects &amp; health &amp; fitness levels of the global populace. Read the whitepaper to know more https://t.co/fuysAmsJFL\",\n",
       "  'settoken',\n",
       "  'SET (Save Environment Token)',\n",
       "  'Fri Feb 09 19:25:46 +0000 2018',\n",
       "  298]]"
      ]
     },
     "execution_count": 11,
     "metadata": {},
     "output_type": "execute_result"
    }
   ],
   "source": [
    "%%cypher\n",
    "match  (n:tweet)<-[r :RETWEETS|:QUOTED_TO|:REPLIES_TO]-()  where n.eco='CCH' \n",
    "with n, count(r) as deg order by deg desc\n",
    "match (n)<-[:TWEETS]-(u:user) \n",
    "return n.tid as TID, substring(n.text, 0, 100000) as Tweets, \n",
    "       u.screen_name as User, u.name as Name, n.created_at as Date, deg as Degree limit 5"
   ]
  },
  {
   "cell_type": "markdown",
   "metadata": {},
   "source": [
    "# Top tweets de GunControl"
   ]
  },
  {
   "cell_type": "code",
   "execution_count": 12,
   "metadata": {},
   "outputs": [
    {
     "name": "stdout",
     "output_type": "stream",
     "text": [
      "5 rows affected.\n"
     ]
    },
    {
     "data": {
      "text/html": [
       "<table>\n",
       "    <tr>\n",
       "        <th>TID</th>\n",
       "        <th>Tweets</th>\n",
       "        <th>User</th>\n",
       "        <th>Name</th>\n",
       "        <th>Date</th>\n",
       "        <th>Degree</th>\n",
       "    </tr>\n",
       "    <tr>\n",
       "        <td>997112115789025280</td>\n",
       "        <td>Black people continue to be killed because the police THINK they’re armed. She brings a rifle to campus and gets a tv platform. Yet she thinks people using the term “white privilege” is racist. My head is spinning https://t.co/uzBUeMFos7</td>\n",
       "        <td>OdehEveryday</td>\n",
       "        <td>Abe</td>\n",
       "        <td>Thu May 17 13:50:28 +0000 2018</td>\n",
       "        <td>97686</td>\n",
       "    </tr>\n",
       "    <tr>\n",
       "        <td>997552686278041602</td>\n",
       "        <td>Florida high school student Emma Gonzalez has shown more moral courage than the GOP and the NRA put together.  RETWEET if stand with Emma as she demands gun reform from Congress and the President after the the Santa Fe, Texas shooting! #GunControlNow https://t.co/7vs4ByBqnE</td>\n",
       "        <td>DisavowTrump20</td>\n",
       "        <td>Protect Robert Mueller ✊</td>\n",
       "        <td>Fri May 18 19:01:08 +0000 2018</td>\n",
       "        <td>8579</td>\n",
       "    </tr>\n",
       "    <tr>\n",
       "        <td>997599793915494401</td>\n",
       "        <td>I’m devasted to learn that among the 10 innocent children murdered today was Sabika Sheikh—a Pakistani exchange student.  She came here to learn—leaving her family thousands of miles behind—and we failed her. Inna lillahai wa inna illahi rajaeoonude13 #SantaFeHigh  #GunControlNow https://t.co/jPe1hU4MQ5</td>\n",
       "        <td>MuslimIQ</td>\n",
       "        <td>Qasim Rashid, Esq.</td>\n",
       "        <td>Fri May 18 22:08:20 +0000 2018</td>\n",
       "        <td>7120</td>\n",
       "    </tr>\n",
       "    <tr>\n",
       "        <td>997483264154701824</td>\n",
       "        <td>All of these countries have mental illness &amp;amp; video games. They also have #GunControl   No. of mass shootings in 2018 (as of 15 May): via @ChrisLutolf  udde6uddfa 0 uddf3uddff 0 udde9uddea 0 uddecudde7 0 udde7uddea 0 udde6uddf9 0 udde9uddf0 0 uddf3uddf1 0 uddf8uddea 0 uddebuddee 0 uddeeuddea 0 udde8udde6 0 uddf1uddfa 0 udde8udded 0 uddfauddf8 99*  Santa Fe High School</td>\n",
       "        <td>pinklionheart</td>\n",
       "        <td>#OrlandoStrong\\udd6f️❤️\\udff3️‍\\udf08</td>\n",
       "        <td>Fri May 18 14:25:17 +0000 2018</td>\n",
       "        <td>6618</td>\n",
       "    </tr>\n",
       "    <tr>\n",
       "        <td>998487356217868288</td>\n",
       "        <td>You’re a good egg @kelly_clarkson ude4cude4cude4c #GunControlNow https://t.co/z7aiBDHyzZ</td>\n",
       "        <td>dylanobrien</td>\n",
       "        <td>Dylan O&#x27;Brien</td>\n",
       "        <td>Mon May 21 08:55:11 +0000 2018</td>\n",
       "        <td>5146</td>\n",
       "    </tr>\n",
       "</table>"
      ],
      "text/plain": [
       "[['997112115789025280',\n",
       "  'Black people continue to be killed because the police THINK they’re armed. She brings a rifle to campus and gets a tv platform. Yet she thinks people using the term “white privilege” is racist. My head is spinning https://t.co/uzBUeMFos7',\n",
       "  'OdehEveryday',\n",
       "  'Abe',\n",
       "  'Thu May 17 13:50:28 +0000 2018',\n",
       "  97686],\n",
       " ['997552686278041602',\n",
       "  'Florida high school student Emma Gonzalez has shown more moral courage than the GOP and the NRA put together.  RETWEET if stand with Emma as she demands gun reform from Congress and the President after the the Santa Fe, Texas shooting! #GunControlNow https://t.co/7vs4ByBqnE',\n",
       "  'DisavowTrump20',\n",
       "  'Protect Robert Mueller ✊',\n",
       "  'Fri May 18 19:01:08 +0000 2018',\n",
       "  8579],\n",
       " ['997599793915494401',\n",
       "  'I’m devasted to learn that among the 10 innocent children murdered today was Sabika Sheikh—a Pakistani exchange student.  She came here to learn—leaving her family thousands of miles behind—and we failed her. Inna lillahai wa inna illahi rajaeoonude13 #SantaFeHigh  #GunControlNow https://t.co/jPe1hU4MQ5',\n",
       "  'MuslimIQ',\n",
       "  'Qasim Rashid, Esq.',\n",
       "  'Fri May 18 22:08:20 +0000 2018',\n",
       "  7120],\n",
       " ['997483264154701824',\n",
       "  'All of these countries have mental illness &amp; video games. They also have #GunControl   No. of mass shootings in 2018 (as of 15 May): via @ChrisLutolf  udde6uddfa 0 uddf3uddff 0 udde9uddea 0 uddecudde7 0 udde7uddea 0 udde6uddf9 0 udde9uddf0 0 uddf3uddf1 0 uddf8uddea 0 uddebuddee 0 uddeeuddea 0 udde8udde6 0 uddf1uddfa 0 udde8udded 0 uddfauddf8 99*  Santa Fe High School',\n",
       "  'pinklionheart',\n",
       "  '#OrlandoStrong\\\\udd6f️❤️\\\\udff3️\\u200d\\\\udf08',\n",
       "  'Fri May 18 14:25:17 +0000 2018',\n",
       "  6618],\n",
       " ['998487356217868288',\n",
       "  'You’re a good egg @kelly_clarkson ude4cude4cude4c #GunControlNow https://t.co/z7aiBDHyzZ',\n",
       "  'dylanobrien',\n",
       "  \"Dylan O'Brien\",\n",
       "  'Mon May 21 08:55:11 +0000 2018',\n",
       "  5146]]"
      ]
     },
     "execution_count": 12,
     "metadata": {},
     "output_type": "execute_result"
    }
   ],
   "source": [
    "%%cypher\n",
    "match  (n:tweet)<-[r :RETWEETS|:QUOTED_TO|:REPLIES_TO]-()  where n.eco='GC' \n",
    "with n, count(r) as deg order by deg desc\n",
    "match (n)<-[:TWEETS]-(u:user) \n",
    "return n.tid as TID, substring(n.text, 0, 100000) as Tweets, \n",
    "       u.screen_name as User, u.name as Name, n.created_at as Date, deg as Degree limit 5"
   ]
  },
  {
   "cell_type": "markdown",
   "metadata": {},
   "source": [
    "## Top users most mentioned in tweets"
   ]
  },
  {
   "cell_type": "code",
   "execution_count": 13,
   "metadata": {},
   "outputs": [
    {
     "name": "stdout",
     "output_type": "stream",
     "text": [
      "15 rows affected.\n"
     ]
    },
    {
     "data": {
      "text/html": [
       "<table>\n",
       "    <tr>\n",
       "        <th>ID</th>\n",
       "        <th>User</th>\n",
       "        <th>Name</th>\n",
       "        <th>Degree</th>\n",
       "        <th>Ecosystem</th>\n",
       "    </tr>\n",
       "    <tr>\n",
       "        <td>776694775</td>\n",
       "        <td>OdehEveryday</td>\n",
       "        <td>Abe</td>\n",
       "        <td>97684</td>\n",
       "        <td>GC</td>\n",
       "    </tr>\n",
       "    <tr>\n",
       "        <td>85583894</td>\n",
       "        <td>MuslimIQ</td>\n",
       "        <td>Qasim Rashid, Esq.</td>\n",
       "        <td>20213</td>\n",
       "        <td>GC</td>\n",
       "    </tr>\n",
       "    <tr>\n",
       "        <td>878247600096509952</td>\n",
       "        <td>RealCandaceO</td>\n",
       "        <td>Candace Owens</td>\n",
       "        <td>18470</td>\n",
       "        <td>GC</td>\n",
       "    </tr>\n",
       "    <tr>\n",
       "        <td>25073877</td>\n",
       "        <td>realDonaldTrump</td>\n",
       "        <td>Donald J. Trump</td>\n",
       "        <td>17342</td>\n",
       "        <td>GC</td>\n",
       "    </tr>\n",
       "    <tr>\n",
       "        <td>772958490356617216</td>\n",
       "        <td>DisavowTrump20</td>\n",
       "        <td>Protect Robert Mueller ✊</td>\n",
       "        <td>11392</td>\n",
       "        <td>GC</td>\n",
       "    </tr>\n",
       "    <tr>\n",
       "        <td>21829541</td>\n",
       "        <td>NRA</td>\n",
       "        <td>NRA</td>\n",
       "        <td>9209</td>\n",
       "        <td>GC</td>\n",
       "    </tr>\n",
       "    <tr>\n",
       "        <td>26642006</td>\n",
       "        <td>Alyssa_Milano</td>\n",
       "        <td>Alyssa Milano</td>\n",
       "        <td>7496</td>\n",
       "        <td>GC</td>\n",
       "    </tr>\n",
       "    <tr>\n",
       "        <td>11134252</td>\n",
       "        <td>GOP</td>\n",
       "        <td>GOP</td>\n",
       "        <td>7252</td>\n",
       "        <td>GC</td>\n",
       "    </tr>\n",
       "    <tr>\n",
       "        <td>12266442</td>\n",
       "        <td>JanelleMonae</td>\n",
       "        <td>Janelle Monáe, Cindi</td>\n",
       "        <td>6298</td>\n",
       "        <td>MT</td>\n",
       "    </tr>\n",
       "    <tr>\n",
       "        <td>1462969034</td>\n",
       "        <td>pinklionheart</td>\n",
       "        <td>#OrlandoStrong\\udd6f️❤️\\udff3️‍\\udf08</td>\n",
       "        <td>6195</td>\n",
       "        <td>GC</td>\n",
       "    </tr>\n",
       "    <tr>\n",
       "        <td>810619093749559296</td>\n",
       "        <td>SaysHummingbird</td>\n",
       "        <td>The Hummingbird \\udc26</td>\n",
       "        <td>5738</td>\n",
       "        <td>GC</td>\n",
       "    </tr>\n",
       "    <tr>\n",
       "        <td>23690344</td>\n",
       "        <td>kelly_clarkson</td>\n",
       "        <td>Kelly Clarkson</td>\n",
       "        <td>5692</td>\n",
       "        <td>GC</td>\n",
       "    </tr>\n",
       "    <tr>\n",
       "        <td>147137791</td>\n",
       "        <td>andexihaeienni</td>\n",
       "        <td>もけ</td>\n",
       "        <td>5603</td>\n",
       "        <td>MT</td>\n",
       "    </tr>\n",
       "    <tr>\n",
       "        <td>14247236</td>\n",
       "        <td>funder</td>\n",
       "        <td>Scott Dworkin</td>\n",
       "        <td>5350</td>\n",
       "        <td>GC</td>\n",
       "    </tr>\n",
       "    <tr>\n",
       "        <td>281766200</td>\n",
       "        <td>dylanobrien</td>\n",
       "        <td>Dylan O&#x27;Brien</td>\n",
       "        <td>5091</td>\n",
       "        <td>GC</td>\n",
       "    </tr>\n",
       "</table>"
      ],
      "text/plain": [
       "[['776694775', 'OdehEveryday', 'Abe', 97684, 'GC'],\n",
       " ['85583894', 'MuslimIQ', 'Qasim Rashid, Esq.', 20213, 'GC'],\n",
       " ['878247600096509952', 'RealCandaceO', 'Candace Owens', 18470, 'GC'],\n",
       " ['25073877', 'realDonaldTrump', 'Donald J. Trump', 17342, 'GC'],\n",
       " ['772958490356617216',\n",
       "  'DisavowTrump20',\n",
       "  'Protect Robert Mueller ✊',\n",
       "  11392,\n",
       "  'GC'],\n",
       " ['21829541', 'NRA', 'NRA', 9209, 'GC'],\n",
       " ['26642006', 'Alyssa_Milano', 'Alyssa Milano', 7496, 'GC'],\n",
       " ['11134252', 'GOP', 'GOP', 7252, 'GC'],\n",
       " ['12266442', 'JanelleMonae', 'Janelle Monáe, Cindi', 6298, 'MT'],\n",
       " ['1462969034',\n",
       "  'pinklionheart',\n",
       "  '#OrlandoStrong\\\\udd6f️❤️\\\\udff3️\\u200d\\\\udf08',\n",
       "  6195,\n",
       "  'GC'],\n",
       " ['810619093749559296',\n",
       "  'SaysHummingbird',\n",
       "  'The Hummingbird \\\\udc26',\n",
       "  5738,\n",
       "  'GC'],\n",
       " ['23690344', 'kelly_clarkson', 'Kelly Clarkson', 5692, 'GC'],\n",
       " ['147137791', 'andexihaeienni', 'もけ', 5603, 'MT'],\n",
       " ['14247236', 'funder', 'Scott Dworkin', 5350, 'GC'],\n",
       " ['281766200', 'dylanobrien', \"Dylan O'Brien\", 5091, 'GC']]"
      ]
     },
     "execution_count": 13,
     "metadata": {},
     "output_type": "execute_result"
    }
   ],
   "source": [
    "%cypher match (n:user)<-[r:MENTIONS]-() return n.uid as ID, n.screen_name as User, n.name as Name, count(r) as Degree, n.eco as Ecosystem order by Degree desc limit 15"
   ]
  },
  {
   "cell_type": "markdown",
   "metadata": {},
   "source": [
    "## Top Urls"
   ]
  },
  {
   "cell_type": "code",
   "execution_count": 14,
   "metadata": {},
   "outputs": [
    {
     "name": "stdout",
     "output_type": "stream",
     "text": [
      "214113 rows affected.\n"
     ]
    }
   ],
   "source": [
    "top_urls = %cypher match (n:url)-[r]-(m) return n.urlid, substring(n.url, 0, 10000000) as URL, count(r) as Uses order by Uses desc"
   ]
  },
  {
   "cell_type": "code",
   "execution_count": 15,
   "metadata": {},
   "outputs": [
    {
     "data": {
      "text/html": [
       "<div>\n",
       "<style scoped>\n",
       "    .dataframe tbody tr th:only-of-type {\n",
       "        vertical-align: middle;\n",
       "    }\n",
       "\n",
       "    .dataframe tbody tr th {\n",
       "        vertical-align: top;\n",
       "    }\n",
       "\n",
       "    .dataframe thead th {\n",
       "        text-align: right;\n",
       "    }\n",
       "</style>\n",
       "<table border=\"1\" class=\"dataframe\">\n",
       "  <thead>\n",
       "    <tr style=\"text-align: right;\">\n",
       "      <th></th>\n",
       "      <th>n.urlid</th>\n",
       "      <th>URL</th>\n",
       "      <th>Uses</th>\n",
       "    </tr>\n",
       "  </thead>\n",
       "  <tbody>\n",
       "    <tr>\n",
       "      <th>0</th>\n",
       "      <td>u15303</td>\n",
       "      <td>https://twitter.com/the_monae/status/1001873764664139776</td>\n",
       "      <td>6420</td>\n",
       "    </tr>\n",
       "    <tr>\n",
       "      <th>1</th>\n",
       "      <td>u145764</td>\n",
       "      <td>https://twitter.com/alyssa_milano/status/998398079798669312</td>\n",
       "      <td>5066</td>\n",
       "    </tr>\n",
       "    <tr>\n",
       "      <th>2</th>\n",
       "      <td>u143051</td>\n",
       "      <td>https://twitter.com/muslimiq/status/997110277547220993</td>\n",
       "      <td>2556</td>\n",
       "    </tr>\n",
       "    <tr>\n",
       "      <th>3</th>\n",
       "      <td>u12188</td>\n",
       "      <td>http://www.elderstatement.com/2015/03/four-black-cops-killed-in-seven-days.html</td>\n",
       "      <td>2381</td>\n",
       "    </tr>\n",
       "    <tr>\n",
       "      <th>4</th>\n",
       "      <td>m16532</td>\n",
       "      <td>https://twitter.com/QpxnD2OdqXZHMv3/status/1005886179881857024/photo/1</td>\n",
       "      <td>1813</td>\n",
       "    </tr>\n",
       "    <tr>\n",
       "      <th>5</th>\n",
       "      <td>u56166</td>\n",
       "      <td>https://www.amazon.com/dp/B07CVBJCD1</td>\n",
       "      <td>1362</td>\n",
       "    </tr>\n",
       "    <tr>\n",
       "      <th>6</th>\n",
       "      <td>u38263</td>\n",
       "      <td>https://twitter.com/lightskinhero/status/999799263105376257</td>\n",
       "      <td>1217</td>\n",
       "    </tr>\n",
       "    <tr>\n",
       "      <th>7</th>\n",
       "      <td>u40380</td>\n",
       "      <td>http://joy105.com/index.php/2018/05/24/senate-passes-bill-to-revamp-sexual-harassment-policies-in-wake-of-metoo-movement/</td>\n",
       "      <td>1195</td>\n",
       "    </tr>\n",
       "    <tr>\n",
       "      <th>8</th>\n",
       "      <td>u56155</td>\n",
       "      <td>https://www.amazon.com/dp/B07D9TJ5RT</td>\n",
       "      <td>1171</td>\n",
       "    </tr>\n",
       "    <tr>\n",
       "      <th>9</th>\n",
       "      <td>u144103</td>\n",
       "      <td>https://twitter.com/DeepNotion20/status/997715550150254593</td>\n",
       "      <td>1153</td>\n",
       "    </tr>\n",
       "  </tbody>\n",
       "</table>\n",
       "</div>"
      ],
      "text/plain": [
       "   n.urlid  \\\n",
       "0  u15303    \n",
       "1  u145764   \n",
       "2  u143051   \n",
       "3  u12188    \n",
       "4  m16532    \n",
       "5  u56166    \n",
       "6  u38263    \n",
       "7  u40380    \n",
       "8  u56155    \n",
       "9  u144103   \n",
       "\n",
       "                                                                                                                         URL  \\\n",
       "0  https://twitter.com/the_monae/status/1001873764664139776                                                                    \n",
       "1  https://twitter.com/alyssa_milano/status/998398079798669312                                                                 \n",
       "2  https://twitter.com/muslimiq/status/997110277547220993                                                                      \n",
       "3  http://www.elderstatement.com/2015/03/four-black-cops-killed-in-seven-days.html                                             \n",
       "4  https://twitter.com/QpxnD2OdqXZHMv3/status/1005886179881857024/photo/1                                                      \n",
       "5  https://www.amazon.com/dp/B07CVBJCD1                                                                                        \n",
       "6  https://twitter.com/lightskinhero/status/999799263105376257                                                                 \n",
       "7  http://joy105.com/index.php/2018/05/24/senate-passes-bill-to-revamp-sexual-harassment-policies-in-wake-of-metoo-movement/   \n",
       "8  https://www.amazon.com/dp/B07D9TJ5RT                                                                                        \n",
       "9  https://twitter.com/DeepNotion20/status/997715550150254593                                                                  \n",
       "\n",
       "   Uses  \n",
       "0  6420  \n",
       "1  5066  \n",
       "2  2556  \n",
       "3  2381  \n",
       "4  1813  \n",
       "5  1362  \n",
       "6  1217  \n",
       "7  1195  \n",
       "8  1171  \n",
       "9  1153  "
      ]
     },
     "execution_count": 15,
     "metadata": {},
     "output_type": "execute_result"
    }
   ],
   "source": [
    "pd.set_option('display.max_colwidth', -1)\n",
    "top_urls.get_dataframe().head(10)"
   ]
  },
  {
   "cell_type": "markdown",
   "metadata": {},
   "source": [
    "## Number of tweets by language"
   ]
  },
  {
   "cell_type": "code",
   "execution_count": 16,
   "metadata": {},
   "outputs": [],
   "source": [
    "#El idioma de los tweets es identificado por Twitter automáticamente."
   ]
  },
  {
   "cell_type": "code",
   "execution_count": 17,
   "metadata": {
    "scrolled": true
   },
   "outputs": [
    {
     "name": "stdout",
     "output_type": "stream",
     "text": [
      "52 rows affected.\n"
     ]
    }
   ],
   "source": [
    "top_languages = %cypher match (n:tweet) where n.lang is not null return distinct n.lang as Language, count(n.lang) as Number_of_tweets order by Number_of_tweets desc"
   ]
  },
  {
   "cell_type": "code",
   "execution_count": 18,
   "metadata": {
    "scrolled": true
   },
   "outputs": [
    {
     "data": {
      "text/html": [
       "<div>\n",
       "<style scoped>\n",
       "    .dataframe tbody tr th:only-of-type {\n",
       "        vertical-align: middle;\n",
       "    }\n",
       "\n",
       "    .dataframe tbody tr th {\n",
       "        vertical-align: top;\n",
       "    }\n",
       "\n",
       "    .dataframe thead th {\n",
       "        text-align: right;\n",
       "    }\n",
       "</style>\n",
       "<table border=\"1\" class=\"dataframe\">\n",
       "  <thead>\n",
       "    <tr style=\"text-align: right;\">\n",
       "      <th></th>\n",
       "      <th>Number_of_tweets</th>\n",
       "    </tr>\n",
       "    <tr>\n",
       "      <th>Language</th>\n",
       "      <th></th>\n",
       "    </tr>\n",
       "  </thead>\n",
       "  <tbody>\n",
       "    <tr>\n",
       "      <th>English</th>\n",
       "      <td>944322</td>\n",
       "    </tr>\n",
       "    <tr>\n",
       "      <th>No Language Detected</th>\n",
       "      <td>58133</td>\n",
       "    </tr>\n",
       "    <tr>\n",
       "      <th>Japanese</th>\n",
       "      <td>57579</td>\n",
       "    </tr>\n",
       "    <tr>\n",
       "      <th>Persian</th>\n",
       "      <td>36952</td>\n",
       "    </tr>\n",
       "    <tr>\n",
       "      <th>Korean</th>\n",
       "      <td>23488</td>\n",
       "    </tr>\n",
       "    <tr>\n",
       "      <th>Spanish</th>\n",
       "      <td>14452</td>\n",
       "    </tr>\n",
       "    <tr>\n",
       "      <th>French</th>\n",
       "      <td>12916</td>\n",
       "    </tr>\n",
       "    <tr>\n",
       "      <th>Thai</th>\n",
       "      <td>8208</td>\n",
       "    </tr>\n",
       "    <tr>\n",
       "      <th>Swedish</th>\n",
       "      <td>6458</td>\n",
       "    </tr>\n",
       "    <tr>\n",
       "      <th>German</th>\n",
       "      <td>6237</td>\n",
       "    </tr>\n",
       "    <tr>\n",
       "      <th>Dutch</th>\n",
       "      <td>3748</td>\n",
       "    </tr>\n",
       "    <tr>\n",
       "      <th>Italian</th>\n",
       "      <td>3153</td>\n",
       "    </tr>\n",
       "    <tr>\n",
       "      <th>Indonesian</th>\n",
       "      <td>2204</td>\n",
       "    </tr>\n",
       "    <tr>\n",
       "      <th>Portuguese</th>\n",
       "      <td>1070</td>\n",
       "    </tr>\n",
       "    <tr>\n",
       "      <th>Estonian</th>\n",
       "      <td>1061</td>\n",
       "    </tr>\n",
       "    <tr>\n",
       "      <th>Turkish</th>\n",
       "      <td>563</td>\n",
       "    </tr>\n",
       "    <tr>\n",
       "      <th>Finnish</th>\n",
       "      <td>552</td>\n",
       "    </tr>\n",
       "    <tr>\n",
       "      <th>Arabic</th>\n",
       "      <td>543</td>\n",
       "    </tr>\n",
       "    <tr>\n",
       "      <th>Norwegian</th>\n",
       "      <td>518</td>\n",
       "    </tr>\n",
       "    <tr>\n",
       "      <th>Tagalog</th>\n",
       "      <td>467</td>\n",
       "    </tr>\n",
       "    <tr>\n",
       "      <th>ca</th>\n",
       "      <td>398</td>\n",
       "    </tr>\n",
       "    <tr>\n",
       "      <th>Danish</th>\n",
       "      <td>352</td>\n",
       "    </tr>\n",
       "    <tr>\n",
       "      <th>Hindi</th>\n",
       "      <td>336</td>\n",
       "    </tr>\n",
       "    <tr>\n",
       "      <th>Polish</th>\n",
       "      <td>308</td>\n",
       "    </tr>\n",
       "    <tr>\n",
       "      <th>Chinese</th>\n",
       "      <td>284</td>\n",
       "    </tr>\n",
       "    <tr>\n",
       "      <th>Swedish</th>\n",
       "      <td>261</td>\n",
       "    </tr>\n",
       "    <tr>\n",
       "      <th>Urdu</th>\n",
       "      <td>180</td>\n",
       "    </tr>\n",
       "    <tr>\n",
       "      <th>Czech</th>\n",
       "      <td>138</td>\n",
       "    </tr>\n",
       "    <tr>\n",
       "      <th>Hebrew</th>\n",
       "      <td>126</td>\n",
       "    </tr>\n",
       "    <tr>\n",
       "      <th>Greek</th>\n",
       "      <td>122</td>\n",
       "    </tr>\n",
       "    <tr>\n",
       "      <th>Russian</th>\n",
       "      <td>112</td>\n",
       "    </tr>\n",
       "    <tr>\n",
       "      <th>Romanian</th>\n",
       "      <td>111</td>\n",
       "    </tr>\n",
       "    <tr>\n",
       "      <th>Lithuanian</th>\n",
       "      <td>110</td>\n",
       "    </tr>\n",
       "    <tr>\n",
       "      <th>Hungarian</th>\n",
       "      <td>81</td>\n",
       "    </tr>\n",
       "    <tr>\n",
       "      <th>Welsh</th>\n",
       "      <td>77</td>\n",
       "    </tr>\n",
       "    <tr>\n",
       "      <th>Basque</th>\n",
       "      <td>57</td>\n",
       "    </tr>\n",
       "    <tr>\n",
       "      <th>Vietnamese</th>\n",
       "      <td>33</td>\n",
       "    </tr>\n",
       "    <tr>\n",
       "      <th>Icelandic</th>\n",
       "      <td>32</td>\n",
       "    </tr>\n",
       "    <tr>\n",
       "      <th>Latvian</th>\n",
       "      <td>31</td>\n",
       "    </tr>\n",
       "    <tr>\n",
       "      <th>Slovenian</th>\n",
       "      <td>22</td>\n",
       "    </tr>\n",
       "    <tr>\n",
       "      <th>Marathi</th>\n",
       "      <td>10</td>\n",
       "    </tr>\n",
       "    <tr>\n",
       "      <th>Bulgarian</th>\n",
       "      <td>9</td>\n",
       "    </tr>\n",
       "    <tr>\n",
       "      <th>Nepali</th>\n",
       "      <td>8</td>\n",
       "    </tr>\n",
       "    <tr>\n",
       "      <th>Serbian</th>\n",
       "      <td>6</td>\n",
       "    </tr>\n",
       "    <tr>\n",
       "      <th>Tamil</th>\n",
       "      <td>6</td>\n",
       "    </tr>\n",
       "    <tr>\n",
       "      <th>gu</th>\n",
       "      <td>6</td>\n",
       "    </tr>\n",
       "    <tr>\n",
       "      <th>Telugu</th>\n",
       "      <td>5</td>\n",
       "    </tr>\n",
       "    <tr>\n",
       "      <th>ckb</th>\n",
       "      <td>5</td>\n",
       "    </tr>\n",
       "    <tr>\n",
       "      <th>ml</th>\n",
       "      <td>4</td>\n",
       "    </tr>\n",
       "    <tr>\n",
       "      <th>Ukrainian</th>\n",
       "      <td>2</td>\n",
       "    </tr>\n",
       "    <tr>\n",
       "      <th>am</th>\n",
       "      <td>2</td>\n",
       "    </tr>\n",
       "    <tr>\n",
       "      <th>Bengali</th>\n",
       "      <td>1</td>\n",
       "    </tr>\n",
       "  </tbody>\n",
       "</table>\n",
       "</div>"
      ],
      "text/plain": [
       "                      Number_of_tweets\n",
       "Language                              \n",
       "English               944322          \n",
       "No Language Detected  58133           \n",
       "Japanese              57579           \n",
       "Persian               36952           \n",
       "Korean                23488           \n",
       "Spanish               14452           \n",
       "French                12916           \n",
       "Thai                  8208            \n",
       "Swedish               6458            \n",
       "German                6237            \n",
       "Dutch                 3748            \n",
       "Italian               3153            \n",
       "Indonesian            2204            \n",
       "Portuguese            1070            \n",
       "Estonian              1061            \n",
       "Turkish               563             \n",
       "Finnish               552             \n",
       "Arabic                543             \n",
       "Norwegian             518             \n",
       "Tagalog               467             \n",
       "ca                    398             \n",
       "Danish                352             \n",
       "Hindi                 336             \n",
       "Polish                308             \n",
       "Chinese               284             \n",
       "Swedish               261             \n",
       "Urdu                  180             \n",
       "Czech                 138             \n",
       "Hebrew                126             \n",
       "Greek                 122             \n",
       "Russian               112             \n",
       "Romanian              111             \n",
       "Lithuanian            110             \n",
       "Hungarian             81              \n",
       "Welsh                 77              \n",
       "Basque                57              \n",
       "Vietnamese            33              \n",
       "Icelandic             32              \n",
       "Latvian               31              \n",
       "Slovenian             22              \n",
       "Marathi               10              \n",
       "Bulgarian             9               \n",
       "Nepali                8               \n",
       "Serbian               6               \n",
       "Tamil                 6               \n",
       "gu                    6               \n",
       "Telugu                5               \n",
       "ckb                   5               \n",
       "ml                    4               \n",
       "Ukrainian             2               \n",
       "am                    2               \n",
       "Bengali               1               "
      ]
     },
     "execution_count": 18,
     "metadata": {},
     "output_type": "execute_result"
    }
   ],
   "source": [
    "et = top_languages.get_dataframe().replace('eu', 'Basque').replace('el', 'Greek').replace('iw', 'Hebrew').replace('in', 'Indonesian').replace('es', 'Spanish').replace('en', 'English').replace('pt', 'Portuguese').replace('it', 'Italian').replace('fr', 'French').replace('und', 'No Language Detected').replace('tr', 'Turkish').replace('tl', 'Tagalog').replace('de', 'German').replace('nl', 'Dutch').replace('sv', 'Swedish').replace('ht', 'Swedish').replace('ro', 'Romanian').replace('da', 'Danish').replace('lt', 'Lithuanian').replace('pl', 'Polish').replace('et', 'Estonian').replace('cs', 'Czech').replace('fi', 'Finnish').replace('ja', 'Japanese').replace('no', 'Norwegian').replace('lv', 'Latvian').replace('cy', 'Welsh').replace('ar', 'Arabic').replace('is', 'Icelandic').replace('ru', 'Russian').replace('hu', 'Hungarian').replace('zh', 'Chinese').replace('sl', 'Slovenian').replace('hi', 'Hindi').replace('bg', 'Bulgarian').replace('ta', 'Tamil').replace('vi', 'Vietnamese').replace('ko', 'Korean').replace('sk', 'Slovak').replace('ur', 'Urdu').replace('sr', 'Serbian').replace('fa', 'Persian').replace('bs', 'Bosnian').replace('hr', 'Croatian').replace('th', 'Thai').replace('uk', 'Ukrainian').replace('bn', 'Bengali').replace('te', 'Telugu').replace('sl','Slovenian').replace('ne', 'Nepali').replace('hy', 'Armenian').replace('mr', 'Marathi').replace('ka', 'Georgian')   \n",
    "et = et.set_index('Language')\n",
    "et"
   ]
  },
  {
   "cell_type": "markdown",
   "metadata": {},
   "source": [
    "## Graphic of 10 top languages excluding Spanish and 'Not Language Detected' tweets"
   ]
  },
  {
   "cell_type": "code",
   "execution_count": 19,
   "metadata": {
    "scrolled": true
   },
   "outputs": [
    {
     "data": {
      "text/plain": [
       "<matplotlib.axes._subplots.AxesSubplot at 0x7fa403a64f60>"
      ]
     },
     "execution_count": 19,
     "metadata": {},
     "output_type": "execute_result"
    },
    {
     "data": {
      "image/png": "[encoded data removed]",
      "text/plain": [
       "<Figure size 432x288 with 1 Axes>"
      ]
     },
     "metadata": {
      "needs_background": "light"
     },
     "output_type": "display_data"
    }
   ],
   "source": [
    "et[:10].plot(kind='bar')"
   ]
  },
  {
   "cell_type": "markdown",
   "metadata": {},
   "source": [
    "## Number of tweets by country"
   ]
  },
  {
   "cell_type": "code",
   "execution_count": 20,
   "metadata": {
    "scrolled": true
   },
   "outputs": [
    {
     "name": "stdout",
     "output_type": "stream",
     "text": [
      "170 rows affected.\n"
     ]
    }
   ],
   "source": [
    "top_countries = %cypher match (n:tweet) where n.country is not null return distinct n.country as Country, count(n.country) as Number_of_tweets order by Number_of_tweets desc"
   ]
  },
  {
   "cell_type": "code",
   "execution_count": 21,
   "metadata": {},
   "outputs": [
    {
     "name": "stdout",
     "output_type": "stream",
     "text": [
      "1 rows affected.\n"
     ]
    },
    {
     "data": {
      "text/html": [
       "<div>\n",
       "<style scoped>\n",
       "    .dataframe tbody tr th:only-of-type {\n",
       "        vertical-align: middle;\n",
       "    }\n",
       "\n",
       "    .dataframe tbody tr th {\n",
       "        vertical-align: top;\n",
       "    }\n",
       "\n",
       "    .dataframe thead th {\n",
       "        text-align: right;\n",
       "    }\n",
       "</style>\n",
       "<table border=\"1\" class=\"dataframe\">\n",
       "  <thead>\n",
       "    <tr style=\"text-align: right;\">\n",
       "      <th></th>\n",
       "      <th>Country</th>\n",
       "      <th>Number_of_tweets</th>\n",
       "      <th>Percentage (%)</th>\n",
       "    </tr>\n",
       "  </thead>\n",
       "  <tbody>\n",
       "    <tr>\n",
       "      <th>15</th>\n",
       "      <td>United States</td>\n",
       "      <td>9193</td>\n",
       "      <td>0.749828</td>\n",
       "    </tr>\n",
       "    <tr>\n",
       "      <th>14</th>\n",
       "      <td>United Kingdom</td>\n",
       "      <td>1093</td>\n",
       "      <td>0.089151</td>\n",
       "    </tr>\n",
       "    <tr>\n",
       "      <th>1</th>\n",
       "      <td>Canada</td>\n",
       "      <td>465</td>\n",
       "      <td>0.037928</td>\n",
       "    </tr>\n",
       "    <tr>\n",
       "      <th>0</th>\n",
       "      <td>Australia</td>\n",
       "      <td>264</td>\n",
       "      <td>0.021533</td>\n",
       "    </tr>\n",
       "    <tr>\n",
       "      <th>16</th>\n",
       "      <td>日本</td>\n",
       "      <td>210</td>\n",
       "      <td>0.017129</td>\n",
       "    </tr>\n",
       "    <tr>\n",
       "      <th>3</th>\n",
       "      <td>Germany</td>\n",
       "      <td>105</td>\n",
       "      <td>0.008564</td>\n",
       "    </tr>\n",
       "    <tr>\n",
       "      <th>5</th>\n",
       "      <td>India</td>\n",
       "      <td>101</td>\n",
       "      <td>0.008238</td>\n",
       "    </tr>\n",
       "    <tr>\n",
       "      <th>2</th>\n",
       "      <td>France</td>\n",
       "      <td>95</td>\n",
       "      <td>0.007749</td>\n",
       "    </tr>\n",
       "    <tr>\n",
       "      <th>13</th>\n",
       "      <td>Sweden</td>\n",
       "      <td>89</td>\n",
       "      <td>0.007259</td>\n",
       "    </tr>\n",
       "    <tr>\n",
       "      <th>4</th>\n",
       "      <td>Holland</td>\n",
       "      <td>79</td>\n",
       "      <td>0.006444</td>\n",
       "    </tr>\n",
       "    <tr>\n",
       "      <th>7</th>\n",
       "      <td>Islamic Republic of Iran</td>\n",
       "      <td>66</td>\n",
       "      <td>0.005383</td>\n",
       "    </tr>\n",
       "    <tr>\n",
       "      <th>12</th>\n",
       "      <td>South Africa</td>\n",
       "      <td>61</td>\n",
       "      <td>0.004975</td>\n",
       "    </tr>\n",
       "    <tr>\n",
       "      <th>6</th>\n",
       "      <td>Ireland</td>\n",
       "      <td>59</td>\n",
       "      <td>0.004812</td>\n",
       "    </tr>\n",
       "    <tr>\n",
       "      <th>9</th>\n",
       "      <td>Japan</td>\n",
       "      <td>56</td>\n",
       "      <td>0.004568</td>\n",
       "    </tr>\n",
       "    <tr>\n",
       "      <th>11</th>\n",
       "      <td>Pakistan</td>\n",
       "      <td>56</td>\n",
       "      <td>0.004568</td>\n",
       "    </tr>\n",
       "    <tr>\n",
       "      <th>8</th>\n",
       "      <td>Italy</td>\n",
       "      <td>42</td>\n",
       "      <td>0.003426</td>\n",
       "    </tr>\n",
       "    <tr>\n",
       "      <th>10</th>\n",
       "      <td>Mexico</td>\n",
       "      <td>35</td>\n",
       "      <td>0.002855</td>\n",
       "    </tr>\n",
       "  </tbody>\n",
       "</table>\n",
       "</div>"
      ],
      "text/plain": [
       "                     Country  Number_of_tweets  Percentage (%)\n",
       "15  United States             9193              0.749828      \n",
       "14  United Kingdom            1093              0.089151      \n",
       "1   Canada                    465               0.037928      \n",
       "0   Australia                 264               0.021533      \n",
       "16  日本                        210               0.017129      \n",
       "3   Germany                   105               0.008564      \n",
       "5   India                     101               0.008238      \n",
       "2   France                    95                0.007749      \n",
       "13  Sweden                    89                0.007259      \n",
       "4   Holland                   79                0.006444      \n",
       "7   Islamic Republic of Iran  66                0.005383      \n",
       "12  South Africa              61                0.004975      \n",
       "6   Ireland                   59                0.004812      \n",
       "9   Japan                     56                0.004568      \n",
       "11  Pakistan                  56                0.004568      \n",
       "8   Italy                     42                0.003426      \n",
       "10  Mexico                    35                0.002855      "
      ]
     },
     "execution_count": 21,
     "metadata": {},
     "output_type": "execute_result"
    }
   ],
   "source": [
    "c_df = top_countries.get_dataframe().replace('Estados Unidos', 'United States').replace('Espanya', 'Spain').replace('España', 'Spain').replace('México', 'Mexico').replace('Canadá', 'Canada').replace('Suecia', 'Sweden').replace('Sverige', 'Sweden').replace('België','Belgium').replace('Bélgica','Belgium').replace('Россия', 'Russia').replace('Rusia', 'Russia').replace('Deutschland', 'Germany').replace('Francia', 'France').replace('Italia', 'Italy').replace('Panamá', 'Panama').replace('Alemania', 'Germany').replace('Reino Unido', 'United Kingdom').replace('Brasil', 'Brazil').replace('Holanda', 'Holland').replace('Nederland', 'Holland').replace('The Netherlands', 'Holland').replace('Nederland', 'Holland').replace('Espainia', 'Spain').replace('Espagne', 'Spain').replace('Espanha', 'Spain').replace('Messico', 'Mexico').replace('Suiza', 'Switzerland').replace('Bolivien', 'Bolivia').replace('USA', 'United States').head(20)\n",
    "\n",
    "c_df = c_df.groupby(['Country'])['Number_of_tweets'].sum()\n",
    "c_df = c_df.reset_index().sort_values(by='Number_of_tweets', ascending=False)\n",
    "total_tweets = %cypher MATCH (n:tweet) RETURN count(n) as Tweets\n",
    "total_tweets = total_tweets.get_dataframe()\n",
    "total_tweets = total_tweets['Tweets'][0]\n",
    "c_df['Percentage (%)'] = (c_df['Number_of_tweets']/total_tweets)*100\n",
    "c_df"
   ]
  },
  {
   "cell_type": "markdown",
   "metadata": {},
   "source": [
    "# Graphic of 20 top countries"
   ]
  },
  {
   "cell_type": "code",
   "execution_count": 22,
   "metadata": {},
   "outputs": [
    {
     "data": {
      "text/plain": [
       "<matplotlib.axes._subplots.AxesSubplot at 0x7fa403d15278>"
      ]
     },
     "execution_count": 22,
     "metadata": {},
     "output_type": "execute_result"
    },
    {
     "data": {
      "image/png": "[encoded data removed]",
      "text/plain": [
       "<Figure size 432x288 with 1 Axes>"
      ]
     },
     "metadata": {
      "needs_background": "light"
     },
     "output_type": "display_data"
    }
   ],
   "source": [
    "c_df.set_index(\"Country\")[0:21].plot(kind=\"bar\")"
   ]
  },
  {
   "cell_type": "markdown",
   "metadata": {},
   "source": [
    "  ## Number of tweets by city"
   ]
  },
  {
   "cell_type": "code",
   "execution_count": 23,
   "metadata": {
    "scrolled": true
   },
   "outputs": [
    {
     "name": "stdout",
     "output_type": "stream",
     "text": [
      "3366 rows affected.\n"
     ]
    }
   ],
   "source": [
    "top_locs = %cypher match (n:tweet) where (n.full_name is not null) return distinct n.full_name as City, count(n.full_name) as Number_of_tweets order by Number_of_tweets desc"
   ]
  },
  {
   "cell_type": "code",
   "execution_count": 24,
   "metadata": {},
   "outputs": [
    {
     "data": {
      "text/html": [
       "<div>\n",
       "<style scoped>\n",
       "    .dataframe tbody tr th:only-of-type {\n",
       "        vertical-align: middle;\n",
       "    }\n",
       "\n",
       "    .dataframe tbody tr th {\n",
       "        vertical-align: top;\n",
       "    }\n",
       "\n",
       "    .dataframe thead th {\n",
       "        text-align: right;\n",
       "    }\n",
       "</style>\n",
       "<table border=\"1\" class=\"dataframe\">\n",
       "  <thead>\n",
       "    <tr style=\"text-align: right;\">\n",
       "      <th></th>\n",
       "      <th>Number_of_tweets</th>\n",
       "    </tr>\n",
       "    <tr>\n",
       "      <th>City</th>\n",
       "      <th></th>\n",
       "    </tr>\n",
       "  </thead>\n",
       "  <tbody>\n",
       "    <tr>\n",
       "      <th>United Kingdom</th>\n",
       "      <td>515</td>\n",
       "    </tr>\n",
       "    <tr>\n",
       "      <th>Los Angeles, CA</th>\n",
       "      <td>379</td>\n",
       "    </tr>\n",
       "    <tr>\n",
       "      <th>Manhattan, NY</th>\n",
       "      <td>335</td>\n",
       "    </tr>\n",
       "    <tr>\n",
       "      <th>Washington, DC</th>\n",
       "      <td>217</td>\n",
       "    </tr>\n",
       "    <tr>\n",
       "      <th>Houston, TX</th>\n",
       "      <td>151</td>\n",
       "    </tr>\n",
       "    <tr>\n",
       "      <th>Oak Lawn, IL</th>\n",
       "      <td>141</td>\n",
       "    </tr>\n",
       "    <tr>\n",
       "      <th>Texas, USA</th>\n",
       "      <td>138</td>\n",
       "    </tr>\n",
       "    <tr>\n",
       "      <th>Chicago, IL</th>\n",
       "      <td>136</td>\n",
       "    </tr>\n",
       "    <tr>\n",
       "      <th>Florida, USA</th>\n",
       "      <td>134</td>\n",
       "    </tr>\n",
       "    <tr>\n",
       "      <th>奈良 斑鳩町</th>\n",
       "      <td>118</td>\n",
       "    </tr>\n",
       "    <tr>\n",
       "      <th>Brooklyn, NY</th>\n",
       "      <td>110</td>\n",
       "    </tr>\n",
       "    <tr>\n",
       "      <th>California, USA</th>\n",
       "      <td>97</td>\n",
       "    </tr>\n",
       "    <tr>\n",
       "      <th>Falls Church, VA</th>\n",
       "      <td>96</td>\n",
       "    </tr>\n",
       "    <tr>\n",
       "      <th>Sydney, New South Wales</th>\n",
       "      <td>94</td>\n",
       "    </tr>\n",
       "    <tr>\n",
       "      <th>Philadelphia, PA</th>\n",
       "      <td>92</td>\n",
       "    </tr>\n",
       "    <tr>\n",
       "      <th>San Francisco, CA</th>\n",
       "      <td>91</td>\n",
       "    </tr>\n",
       "    <tr>\n",
       "      <th>Georgia, USA</th>\n",
       "      <td>83</td>\n",
       "    </tr>\n",
       "    <tr>\n",
       "      <th>San Diego, CA</th>\n",
       "      <td>78</td>\n",
       "    </tr>\n",
       "    <tr>\n",
       "      <th>Phoenix, AZ</th>\n",
       "      <td>73</td>\n",
       "    </tr>\n",
       "    <tr>\n",
       "      <th>Atlanta, GA</th>\n",
       "      <td>73</td>\n",
       "    </tr>\n",
       "  </tbody>\n",
       "</table>\n",
       "</div>"
      ],
      "text/plain": [
       "                         Number_of_tweets\n",
       "City                                     \n",
       "United Kingdom           515             \n",
       "Los Angeles, CA          379             \n",
       "Manhattan, NY            335             \n",
       "Washington, DC           217             \n",
       "Houston, TX              151             \n",
       "Oak Lawn, IL             141             \n",
       "Texas, USA               138             \n",
       "Chicago, IL              136             \n",
       "Florida, USA             134             \n",
       "奈良 斑鳩町                   118             \n",
       "Brooklyn, NY             110             \n",
       "California, USA          97              \n",
       "Falls Church, VA         96              \n",
       "Sydney, New South Wales  94              \n",
       "Philadelphia, PA         92              \n",
       "San Francisco, CA        91              \n",
       "Georgia, USA             83              \n",
       "San Diego, CA            78              \n",
       "Phoenix, AZ              73              \n",
       "Atlanta, GA              73              "
      ]
     },
     "execution_count": 24,
     "metadata": {},
     "output_type": "execute_result"
    }
   ],
   "source": [
    "df = top_locs.get_dataframe().groupby('City').sum().sort_values( by ='Number_of_tweets', ascending = 0)\n",
    "df.head(20)"
   ]
  },
  {
   "cell_type": "markdown",
   "metadata": {},
   "source": [
    "## Graphic of top 20  cities"
   ]
  },
  {
   "cell_type": "code",
   "execution_count": 25,
   "metadata": {},
   "outputs": [
    {
     "data": {
      "text/plain": [
       "<matplotlib.axes._subplots.AxesSubplot at 0x7fa403c76550>"
      ]
     },
     "execution_count": 25,
     "metadata": {},
     "output_type": "execute_result"
    },
    {
     "data": {
      "image/png": "[encoded data removed]",
      "text/plain": [
       "<Figure size 432x288 with 1 Axes>"
      ]
     },
     "metadata": {
      "needs_background": "light"
     },
     "output_type": "display_data"
    }
   ],
   "source": [
    "locs_df = df.head(21)\n",
    "locs_df[0:20].plot(kind=\"bar\")"
   ]
  },
  {
   "cell_type": "markdown",
   "metadata": {},
   "source": [
    "## Top US Cities "
   ]
  },
  {
   "cell_type": "code",
   "execution_count": 26,
   "metadata": {},
   "outputs": [
    {
     "name": "stdout",
     "output_type": "stream",
     "text": [
      "2160 rows affected.\n"
     ]
    }
   ],
   "source": [
    "us_cities = %cypher match (t:tweet) where t.country = \"United States\" return distinct t.full_name as City, count(*) as Number_of_tweets order by Number_of_tweets desc"
   ]
  },
  {
   "cell_type": "code",
   "execution_count": 27,
   "metadata": {},
   "outputs": [
    {
     "data": {
      "text/html": [
       "<div>\n",
       "<style scoped>\n",
       "    .dataframe tbody tr th:only-of-type {\n",
       "        vertical-align: middle;\n",
       "    }\n",
       "\n",
       "    .dataframe tbody tr th {\n",
       "        vertical-align: top;\n",
       "    }\n",
       "\n",
       "    .dataframe thead th {\n",
       "        text-align: right;\n",
       "    }\n",
       "</style>\n",
       "<table border=\"1\" class=\"dataframe\">\n",
       "  <thead>\n",
       "    <tr style=\"text-align: right;\">\n",
       "      <th></th>\n",
       "      <th>Number_of_tweets</th>\n",
       "    </tr>\n",
       "    <tr>\n",
       "      <th>City</th>\n",
       "      <th></th>\n",
       "    </tr>\n",
       "  </thead>\n",
       "  <tbody>\n",
       "    <tr>\n",
       "      <th>Los Angeles, CA</th>\n",
       "      <td>378</td>\n",
       "    </tr>\n",
       "    <tr>\n",
       "      <th>Manhattan, NY</th>\n",
       "      <td>325</td>\n",
       "    </tr>\n",
       "    <tr>\n",
       "      <th>Washington, DC</th>\n",
       "      <td>216</td>\n",
       "    </tr>\n",
       "    <tr>\n",
       "      <th>Houston, TX</th>\n",
       "      <td>150</td>\n",
       "    </tr>\n",
       "    <tr>\n",
       "      <th>Oak Lawn, IL</th>\n",
       "      <td>141</td>\n",
       "    </tr>\n",
       "    <tr>\n",
       "      <th>Texas, USA</th>\n",
       "      <td>137</td>\n",
       "    </tr>\n",
       "    <tr>\n",
       "      <th>Chicago, IL</th>\n",
       "      <td>136</td>\n",
       "    </tr>\n",
       "    <tr>\n",
       "      <th>Florida, USA</th>\n",
       "      <td>132</td>\n",
       "    </tr>\n",
       "    <tr>\n",
       "      <th>Brooklyn, NY</th>\n",
       "      <td>110</td>\n",
       "    </tr>\n",
       "    <tr>\n",
       "      <th>California, USA</th>\n",
       "      <td>97</td>\n",
       "    </tr>\n",
       "    <tr>\n",
       "      <th>Falls Church, VA</th>\n",
       "      <td>96</td>\n",
       "    </tr>\n",
       "    <tr>\n",
       "      <th>Philadelphia, PA</th>\n",
       "      <td>92</td>\n",
       "    </tr>\n",
       "    <tr>\n",
       "      <th>San Francisco, CA</th>\n",
       "      <td>90</td>\n",
       "    </tr>\n",
       "    <tr>\n",
       "      <th>Georgia, USA</th>\n",
       "      <td>83</td>\n",
       "    </tr>\n",
       "    <tr>\n",
       "      <th>San Diego, CA</th>\n",
       "      <td>78</td>\n",
       "    </tr>\n",
       "    <tr>\n",
       "      <th>Phoenix, AZ</th>\n",
       "      <td>73</td>\n",
       "    </tr>\n",
       "    <tr>\n",
       "      <th>Atlanta, GA</th>\n",
       "      <td>73</td>\n",
       "    </tr>\n",
       "    <tr>\n",
       "      <th>Austin, TX</th>\n",
       "      <td>73</td>\n",
       "    </tr>\n",
       "    <tr>\n",
       "      <th>Pennsylvania, USA</th>\n",
       "      <td>72</td>\n",
       "    </tr>\n",
       "    <tr>\n",
       "      <th>Dallas, TX</th>\n",
       "      <td>69</td>\n",
       "    </tr>\n",
       "    <tr>\n",
       "      <th>New York, USA</th>\n",
       "      <td>68</td>\n",
       "    </tr>\n",
       "  </tbody>\n",
       "</table>\n",
       "</div>"
      ],
      "text/plain": [
       "                   Number_of_tweets\n",
       "City                               \n",
       "Los Angeles, CA    378             \n",
       "Manhattan, NY      325             \n",
       "Washington, DC     216             \n",
       "Houston, TX        150             \n",
       "Oak Lawn, IL       141             \n",
       "Texas, USA         137             \n",
       "Chicago, IL        136             \n",
       "Florida, USA       132             \n",
       "Brooklyn, NY       110             \n",
       "California, USA    97              \n",
       "Falls Church, VA   96              \n",
       "Philadelphia, PA   92              \n",
       "San Francisco, CA  90              \n",
       "Georgia, USA       83              \n",
       "San Diego, CA      78              \n",
       "Phoenix, AZ        73              \n",
       "Atlanta, GA        73              \n",
       "Austin, TX         73              \n",
       "Pennsylvania, USA  72              \n",
       "Dallas, TX         69              \n",
       "New York, USA      68              "
      ]
     },
     "execution_count": 27,
     "metadata": {},
     "output_type": "execute_result"
    }
   ],
   "source": [
    "df = us_cities.get_dataframe().groupby('City').sum().sort_values( by ='Number_of_tweets', ascending = 0)\n",
    "df.head(21)"
   ]
  },
  {
   "cell_type": "markdown",
   "metadata": {},
   "source": [
    "## Graphic of top 20 US Cities"
   ]
  },
  {
   "cell_type": "code",
   "execution_count": 28,
   "metadata": {},
   "outputs": [
    {
     "data": {
      "text/plain": [
       "<matplotlib.axes._subplots.AxesSubplot at 0x7fa4019776a0>"
      ]
     },
     "execution_count": 28,
     "metadata": {},
     "output_type": "execute_result"
    },
    {
     "data": {
      "image/png": "[encoded data removed]",
      "text/plain": [
       "<Figure size 432x288 with 1 Axes>"
      ]
     },
     "metadata": {
      "needs_background": "light"
     },
     "output_type": "display_data"
    }
   ],
   "source": [
    "df.plot(kind=\"bar\")"
   ]
  },
  {
   "cell_type": "code",
   "execution_count": null,
   "metadata": {},
   "outputs": [],
   "source": []
  },
  {
   "cell_type": "code",
   "execution_count": null,
   "metadata": {},
   "outputs": [],
   "source": []
  }
 ],
 "metadata": {
  "kernelspec": {
   "display_name": "Python 3",
   "language": "python",
   "name": "python3"
  },
  "language_info": {
   "codemirror_mode": {
    "name": "ipython",
    "version": 3
   },
   "file_extension": ".py",
   "mimetype": "text/x-python",
   "name": "python",
   "nbconvert_exporter": "python",
   "pygments_lexer": "ipython3",
   "version": "3.5.2"
  }
 },
 "nbformat": 4,
 "nbformat_minor": 2
}
